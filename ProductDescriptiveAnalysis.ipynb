{
 "cells": [
  {
   "cell_type": "code",
   "execution_count": null,
   "metadata": {},
   "outputs": [],
   "source": [
    "import pymysql.cursors\n",
    "import pandas as pd\n",
    "from datetime import datetime, timedelta\n",
    "import calendar\n",
    "import numpy as np\n",
    "import matplotlib.pyplot as plt\n",
    "import seaborn as sns\n",
    "%matplotlib inline\n"
   ]
  },
  {
   "cell_type": "code",
   "execution_count": null,
   "metadata": {},
   "outputs": [],
   "source": [
    "#import pyodbc\n",
    "#conn = pyodbc.connect(\"DRIVER={{ODBC Driver 17 for SQL Server}};SERVER={0}; database={1};UID={2};PWD={3}\".format('10.20.2.110,1433','AIG_DARAZ_PK_DW','daraz-tools','JfF7ziSCNk5jPxd'))\n",
    "#cursor = conn.cursor()\n",
    "\n",
    "#query = open('SqlForDailyDemandData.sql', 'r')\n",
    "#dataFrame_initial = pd.read_sql_query(query.read(), conn)\n",
    "#dataFrame_initial.shape"
   ]
  },
  {
   "cell_type": "code",
   "execution_count": null,
   "metadata": {},
   "outputs": [],
   "source": [
    "#dataFrame_initial.to_pickle('./dataFile',compression='infer', protocol=4)"
   ]
  },
  {
   "cell_type": "code",
   "execution_count": null,
   "metadata": {},
   "outputs": [],
   "source": [
    "df_initial = pd.read_pickle('./dataFile', compression='infer')"
   ]
  },
  {
   "cell_type": "code",
   "execution_count": null,
   "metadata": {},
   "outputs": [],
   "source": [
    "#df_initial.dtypes"
   ]
  },
  {
   "cell_type": "code",
   "execution_count": null,
   "metadata": {},
   "outputs": [],
   "source": [
    "#query = open('ProductVisibility.sql', 'r')\n",
    "#df_prodVisible = pd.read_sql_query(query.read(), conn)\n",
    "#df_prodVisible.shape"
   ]
  },
  {
   "cell_type": "code",
   "execution_count": null,
   "metadata": {},
   "outputs": [],
   "source": [
    "#df_prodVisible.to_pickle('./productVisibilityDataFile',compression='infer', protocol=4)\n",
    "df_prodVisible = pd.read_pickle('./productVisibilityDataFile', compression='infer')\n"
   ]
  },
  {
   "cell_type": "code",
   "execution_count": null,
   "metadata": {},
   "outputs": [],
   "source": [
    "#df_prodVisible[df_prodVisible.DD_COD_SKU_CONFIG == '10259FA03RQUYNAFAMZ']['2018-02-10'].head()"
   ]
  },
  {
   "cell_type": "code",
   "execution_count": null,
   "metadata": {},
   "outputs": [],
   "source": [
    "df_initial['date'] = pd.to_datetime(df_initial['date'])\n",
    "df_initial.sort_values(by='date').head()"
   ]
  },
  {
   "cell_type": "code",
   "execution_count": null,
   "metadata": {},
   "outputs": [],
   "source": [
    "#df_initial['DSC_PRODUCT_WEIGHT'].unique()"
   ]
  },
  {
   "cell_type": "code",
   "execution_count": null,
   "metadata": {},
   "outputs": [],
   "source": [
    "import re\n",
    "df_initial['DSC_PRODUCT_WEIGHT'] = df_initial['DSC_PRODUCT_WEIGHT'].apply(lambda x : re.sub(r'#', r'0', str(x)))\n",
    "df_initial['DSC_PRODUCT_WEIGHT'] = df_initial['DSC_PRODUCT_WEIGHT'].apply(lambda x : re.sub(r'[a-zA-Z]', '', str(x)))\n",
    "df_initial['DSC_PRODUCT_WEIGHT'] = df_initial['DSC_PRODUCT_WEIGHT'].apply(lambda x : re.sub(r'([.])\\1+', r'\\1', str(x)))\n",
    "df_initial['DSC_PRODUCT_WEIGHT'] = df_initial['DSC_PRODUCT_WEIGHT'].apply(lambda x : re.sub(r'/', r'', str(x)))\n",
    "df_initial['DSC_PRODUCT_WEIGHT'] = df_initial['DSC_PRODUCT_WEIGHT'].apply(lambda x : re.sub(r'[!]', '0', str(x)))\n",
    "df_initial['DSC_PRODUCT_WEIGHT'] = pd.to_numeric(df_initial['DSC_PRODUCT_WEIGHT'])\n"
   ]
  },
  {
   "cell_type": "code",
   "execution_count": null,
   "metadata": {},
   "outputs": [],
   "source": [
    "#df_initial.describe()"
   ]
  },
  {
   "cell_type": "code",
   "execution_count": null,
   "metadata": {},
   "outputs": [],
   "source": [
    "#df_initial[df_initial.DSC_PRODUCT_WEIGHT == df_initial['DSC_PRODUCT_WEIGHT'].max()]"
   ]
  },
  {
   "cell_type": "code",
   "execution_count": null,
   "metadata": {},
   "outputs": [],
   "source": [
    "df_initial['CatConcat'] = df_initial[['DSC_CATEGORY_NAME_LEVEL_1', 'DSC_CATEGORY_NAME_LEVEL_2','DSC_CATEGORY_NAME_LEVEL_3','DSC_CATEGORY_NAME_LEVEL_4']].apply(lambda x: ' '.join(x.str.strip()), axis=1)"
   ]
  },
  {
   "cell_type": "code",
   "execution_count": null,
   "metadata": {},
   "outputs": [],
   "source": [
    "#df_initial[df_initial.CatConcat == \"Grocer's Shop Cooking Essentials Rice, Flours, Pulses & Grains Rice\"]['DSC_PRODUCT_NAME'].value_counts()[:10]"
   ]
  },
  {
   "cell_type": "code",
   "execution_count": null,
   "metadata": {},
   "outputs": [],
   "source": [
    "# df_initial[df_initial.DSC_PRODUCT_NAME == 'Super Kernel Basmati Rice']['COD_SKU_CONFIG'].value_counts()"
   ]
  },
  {
   "cell_type": "code",
   "execution_count": null,
   "metadata": {},
   "outputs": [],
   "source": [
    "# df_initial[(df_initial.DSC_PRODUCT_NAME == 'Super Kernel Basmati Rice') &\n",
    "#            (df_initial.DSC_PRODUCT_BRAND_NAME_EN == 'Xidmat')]['date'].max()"
   ]
  },
  {
   "cell_type": "code",
   "execution_count": null,
   "metadata": {},
   "outputs": [],
   "source": [
    "# newDf = df_initial[(df_initial.COD_SKU_CONFIG == 'RE775OT1GWF5GNAFAMZ')]['date'].to_frame()\n",
    "\n",
    "# newDf['CummulativeQuantity'] = df_initial[(df_initial.COD_SKU_CONFIG == 'RE775OT1GWF5GNAFAMZ')]['Valid Total'].cumsum()\n",
    "\n",
    "# newDf['DemandPercent'] = (newDf['CummulativeQuantity']/newDf['CummulativeQuantity'].iloc[-1])*100"
   ]
  },
  {
   "cell_type": "code",
   "execution_count": null,
   "metadata": {},
   "outputs": [],
   "source": [
    "#df_initial[(df_initial.COD_SKU_CONFIG == SKUid)].head()"
   ]
  },
  {
   "cell_type": "code",
   "execution_count": null,
   "metadata": {},
   "outputs": [],
   "source": [
    "#newDf[40:105]"
   ]
  },
  {
   "cell_type": "code",
   "execution_count": null,
   "metadata": {},
   "outputs": [],
   "source": [
    "# plt.figure(figsize=(10,7))\n",
    "# plt.plot(newDf.date, newDf.DemandPercent)\n",
    "# plt.ylabel('Percentage Demand', fontsize=12)\n",
    "# plt.xlabel('Date', fontsize=12)"
   ]
  },
  {
   "cell_type": "code",
   "execution_count": null,
   "metadata": {},
   "outputs": [],
   "source": [
    "df_prodVisible = df_prodVisible.fillna(0)\n",
    "\n",
    "df_prodVisible = df_prodVisible.T"
   ]
  },
  {
   "cell_type": "code",
   "execution_count": null,
   "metadata": {},
   "outputs": [],
   "source": [
    "df_prodVisible.columns = df_prodVisible.iloc[0]\n",
    "\n",
    "df_prodVisible = df_prodVisible.reindex(df_prodVisible.index.drop('DD_COD_SKU_CONFIG'))"
   ]
  },
  {
   "cell_type": "code",
   "execution_count": null,
   "metadata": {},
   "outputs": [],
   "source": [
    "#df_prodVisible['2018-02-04':'2018-02-10'][['10259FA03RQUYNAFAMZ']]"
   ]
  },
  {
   "cell_type": "code",
   "execution_count": null,
   "metadata": {},
   "outputs": [],
   "source": [
    "def zero_runs(a):\n",
    "    # Create an array that is 1 where a is 0, and pad each end with an extra 0.\n",
    "    iszero = np.concatenate(([0], np.equal(a, 0).view(np.int8), [0]))\n",
    "    absdiff = np.abs(np.diff(iszero))\n",
    "    # Runs start and end where absdiff is 1.\n",
    "    ranges = np.where(absdiff == 1)[0].reshape(-1, 2)\n",
    "    return ranges"
   ]
  },
  {
   "cell_type": "code",
   "execution_count": null,
   "metadata": {},
   "outputs": [],
   "source": [
    "def getOfflineData(offlineRaw,SKU_name):\n",
    "    dataFrame = pd.DataFrame()\n",
    "    for ind, column in enumerate(offlineRaw.columns):\n",
    "        runs = zero_runs(offlineRaw.iloc[:,ind])\n",
    "        tuples = zip(offlineRaw.iloc[runs[:,0],0].index, runs[:,1] - runs[:,0])\n",
    "        tempDf = {}\n",
    "        cols = ['OfflineDate','OfflineDays']\n",
    "        tuples = list(tuples)\n",
    "        tempDf = pd.DataFrame.from_records(tuples,columns = cols)\n",
    "        tempDf['SKU'] = column\n",
    "        dataFrame = dataFrame.append(tempDf)\n",
    "    return dataFrame\n",
    "        "
   ]
  },
  {
   "cell_type": "code",
   "execution_count": null,
   "metadata": {},
   "outputs": [],
   "source": [
    "#formattedDf = getOfflineData(df_prodVisible,df_prodVisible.columns.values[0])\n",
    "#formattedDf.to_pickle('./OfflineFormattedData',compression='infer', protocol=4)\n",
    "formattedDf = pd.read_pickle('./OfflineFormattedData', compression='infer')\n",
    "#formattedDf.head()"
   ]
  },
  {
   "cell_type": "code",
   "execution_count": null,
   "metadata": {},
   "outputs": [],
   "source": [
    "#Sample SKUs 00301FA0IW7BMNAFAMZ, 00301FA1IM7MANAFAMZ, 10259FA0074AYNAFAMZ\n",
    "#formattedDf['OfflineDate'] = pd.to_datetime(formattedDf['OfflineDate'])\n",
    "#df_initial.dtypes"
   ]
  },
  {
   "cell_type": "markdown",
   "metadata": {},
   "source": [
    "### Offline Product Similarity Match "
   ]
  },
  {
   "cell_type": "code",
   "execution_count": 546,
   "metadata": {},
   "outputs": [],
   "source": [
    "SKUid = '10259FA04L5PUNAFAMZ'"
   ]
  },
  {
   "cell_type": "code",
   "execution_count": 547,
   "metadata": {},
   "outputs": [
    {
     "name": "stdout",
     "output_type": "stream",
     "text": [
      "[\"Women's Fashion Women's Accessories Jewellery Bangles & Bracelets\"]\n",
      "['Golden Stylish Bracelet JP-1329']\n",
      "['100 Degreez']\n",
      "2018-03-03\n",
      "1\n",
      "SKUs which have been sold during this period from this relevent category cluster  1031\n"
     ]
    }
   ],
   "source": [
    "\n",
    "PeriodStartDate = '2018-01-25'\n",
    "categoryName = df_initial[df_initial.COD_SKU_CONFIG == SKUid]['CatConcat'].unique()\n",
    "print(categoryName)\n",
    "productame = df_initial[df_initial.COD_SKU_CONFIG == SKUid]['DSC_PRODUCT_NAME'].unique()\n",
    "print(productame)\n",
    "brandName = df_initial[df_initial.COD_SKU_CONFIG == SKUid]['DSC_PRODUCT_BRAND_NAME_EN'].unique()\n",
    "print(brandName)\n",
    "offlineStartDate = formattedDf[formattedDf.SKU == SKUid].iloc[2:3,0].values[0]\n",
    "print(offlineStartDate)\n",
    "\n",
    "offlineDays = formattedDf[formattedDf.SKU == SKUid].iloc[2:3,1].values[0]\n",
    "print(offlineDays)\n",
    "\n",
    "relevantSkuList = df_initial[(df_initial.CatConcat == categoryName[0]) & (df_initial.COD_SKU_CONFIG != SKUid)]['COD_SKU_CONFIG'].unique()\n",
    "print('SKUs which have been sold during this period from this relevent category cluster ',len(relevantSkuList))\n",
    "\n",
    "#print('No of records in this Category, whose demand data we have in our date range of 5 months:',len(df_initial[(df_initial.CatConcat == categoryName[0]) & (df_initial.COD_SKU_CONFIG != '00301FA0IW7BMNAFAMZ')].index))"
   ]
  },
  {
   "cell_type": "code",
   "execution_count": 540,
   "metadata": {},
   "outputs": [],
   "source": [
    "#df_prodVisible[np.intersect1d(df_prodVisible.columns, list(relevantSkuList))].head()\n",
    "#df_prodVisible[df_prodVisible.columns.intersection(list(relevantSkuList))].head()\n",
    "\n",
    "#formattedDf[formattedDf.SKU == SKUid]"
   ]
  },
  {
   "cell_type": "code",
   "execution_count": 548,
   "metadata": {},
   "outputs": [],
   "source": [
    "releventSKUdataFrame = df_prodVisible[(datetime.strptime(PeriodStartDate, \"%Y-%m-%d\").strftime(\"%Y-%m-%d\")) : (datetime.strptime(offlineStartDate, \"%Y-%m-%d\") + timedelta(days=int(offlineDays)-1)).strftime(\"%Y-%m-%d\")]\n",
    "\n",
    "releventSKUdataFrame = releventSKUdataFrame[releventSKUdataFrame.columns.intersection(list(relevantSkuList))].apply(pd.Series.value_counts)"
   ]
  },
  {
   "cell_type": "code",
   "execution_count": 549,
   "metadata": {},
   "outputs": [
    {
     "data": {
      "text/html": [
       "<div>\n",
       "<style scoped>\n",
       "    .dataframe tbody tr th:only-of-type {\n",
       "        vertical-align: middle;\n",
       "    }\n",
       "\n",
       "    .dataframe tbody tr th {\n",
       "        vertical-align: top;\n",
       "    }\n",
       "\n",
       "    .dataframe thead th {\n",
       "        text-align: right;\n",
       "    }\n",
       "</style>\n",
       "<table border=\"1\" class=\"dataframe\">\n",
       "  <thead>\n",
       "    <tr style=\"text-align: right;\">\n",
       "      <th>DD_COD_SKU_CONFIG</th>\n",
       "      <th>10259FA0074AYNAFAMZ</th>\n",
       "      <th>10259FA01EOKQNAFAMZ</th>\n",
       "      <th>10259FA01WFV6NAFAMZ</th>\n",
       "      <th>10259FA01YUNMNAFAMZ</th>\n",
       "      <th>10259FA027FAQNAFAMZ</th>\n",
       "      <th>10259FA031N9ENAFAMZ</th>\n",
       "      <th>10259FA0365AQNAFAMZ</th>\n",
       "      <th>10259FA03CSI4NAFAMZ</th>\n",
       "      <th>10259FA03RKWINAFAMZ</th>\n",
       "      <th>10259FA04D0IANAFAMZ</th>\n",
       "      <th>...</th>\n",
       "      <th>ZA632FA033HK2NAFAMZ</th>\n",
       "      <th>ZA632FA0E4ZQQNAFAMZ</th>\n",
       "      <th>ZA632FA1LJ6V2NAFAMZ</th>\n",
       "      <th>ZE083FA0DJY3GNAFAMZ</th>\n",
       "      <th>ZE083FA1E5KFKNAFAMZ</th>\n",
       "      <th>ZE393FA07PNFKNAFAMZ</th>\n",
       "      <th>ZM378FA0PZ3V6NAFAMZ</th>\n",
       "      <th>ZM378FA0VXFWYNAFAMZ</th>\n",
       "      <th>ZU629FA0OYTOONAFAMZ</th>\n",
       "      <th>ZU629FAEPE3MNAFAMZ</th>\n",
       "    </tr>\n",
       "  </thead>\n",
       "  <tbody>\n",
       "    <tr>\n",
       "      <th>0.0</th>\n",
       "      <td>2</td>\n",
       "      <td>38.0</td>\n",
       "      <td>2</td>\n",
       "      <td>2</td>\n",
       "      <td>2</td>\n",
       "      <td>2</td>\n",
       "      <td>24</td>\n",
       "      <td>2</td>\n",
       "      <td>30</td>\n",
       "      <td>2</td>\n",
       "      <td>...</td>\n",
       "      <td>27</td>\n",
       "      <td>26</td>\n",
       "      <td>24</td>\n",
       "      <td>37</td>\n",
       "      <td>2</td>\n",
       "      <td>38.0</td>\n",
       "      <td>12</td>\n",
       "      <td>38.0</td>\n",
       "      <td>3</td>\n",
       "      <td>2</td>\n",
       "    </tr>\n",
       "    <tr>\n",
       "      <th>1.0</th>\n",
       "      <td>36</td>\n",
       "      <td>NaN</td>\n",
       "      <td>36</td>\n",
       "      <td>36</td>\n",
       "      <td>36</td>\n",
       "      <td>36</td>\n",
       "      <td>14</td>\n",
       "      <td>36</td>\n",
       "      <td>8</td>\n",
       "      <td>36</td>\n",
       "      <td>...</td>\n",
       "      <td>11</td>\n",
       "      <td>12</td>\n",
       "      <td>14</td>\n",
       "      <td>1</td>\n",
       "      <td>36</td>\n",
       "      <td>NaN</td>\n",
       "      <td>26</td>\n",
       "      <td>NaN</td>\n",
       "      <td>35</td>\n",
       "      <td>36</td>\n",
       "    </tr>\n",
       "  </tbody>\n",
       "</table>\n",
       "<p>2 rows × 1030 columns</p>\n",
       "</div>"
      ],
      "text/plain": [
       "DD_COD_SKU_CONFIG  10259FA0074AYNAFAMZ  10259FA01EOKQNAFAMZ  \\\n",
       "0.0                                  2                 38.0   \n",
       "1.0                                 36                  NaN   \n",
       "\n",
       "DD_COD_SKU_CONFIG  10259FA01WFV6NAFAMZ  10259FA01YUNMNAFAMZ  \\\n",
       "0.0                                  2                    2   \n",
       "1.0                                 36                   36   \n",
       "\n",
       "DD_COD_SKU_CONFIG  10259FA027FAQNAFAMZ  10259FA031N9ENAFAMZ  \\\n",
       "0.0                                  2                    2   \n",
       "1.0                                 36                   36   \n",
       "\n",
       "DD_COD_SKU_CONFIG  10259FA0365AQNAFAMZ  10259FA03CSI4NAFAMZ  \\\n",
       "0.0                                 24                    2   \n",
       "1.0                                 14                   36   \n",
       "\n",
       "DD_COD_SKU_CONFIG  10259FA03RKWINAFAMZ  10259FA04D0IANAFAMZ  \\\n",
       "0.0                                 30                    2   \n",
       "1.0                                  8                   36   \n",
       "\n",
       "DD_COD_SKU_CONFIG         ...          ZA632FA033HK2NAFAMZ  \\\n",
       "0.0                       ...                           27   \n",
       "1.0                       ...                           11   \n",
       "\n",
       "DD_COD_SKU_CONFIG  ZA632FA0E4ZQQNAFAMZ  ZA632FA1LJ6V2NAFAMZ  \\\n",
       "0.0                                 26                   24   \n",
       "1.0                                 12                   14   \n",
       "\n",
       "DD_COD_SKU_CONFIG  ZE083FA0DJY3GNAFAMZ  ZE083FA1E5KFKNAFAMZ  \\\n",
       "0.0                                 37                    2   \n",
       "1.0                                  1                   36   \n",
       "\n",
       "DD_COD_SKU_CONFIG  ZE393FA07PNFKNAFAMZ  ZM378FA0PZ3V6NAFAMZ  \\\n",
       "0.0                               38.0                   12   \n",
       "1.0                                NaN                   26   \n",
       "\n",
       "DD_COD_SKU_CONFIG  ZM378FA0VXFWYNAFAMZ  ZU629FA0OYTOONAFAMZ  \\\n",
       "0.0                               38.0                    3   \n",
       "1.0                                NaN                   35   \n",
       "\n",
       "DD_COD_SKU_CONFIG  ZU629FAEPE3MNAFAMZ  \n",
       "0.0                                 2  \n",
       "1.0                                36  \n",
       "\n",
       "[2 rows x 1030 columns]"
      ]
     },
     "execution_count": 549,
     "metadata": {},
     "output_type": "execute_result"
    }
   ],
   "source": [
    "releventSKUdataFrame"
   ]
  },
  {
   "cell_type": "code",
   "execution_count": 550,
   "metadata": {},
   "outputs": [],
   "source": [
    "findOnlineRelatedSKUs = releventSKUdataFrame"
   ]
  },
  {
   "cell_type": "code",
   "execution_count": 551,
   "metadata": {},
   "outputs": [],
   "source": [
    "findOnlineRelatedSKUs = findOnlineRelatedSKUs.T"
   ]
  },
  {
   "cell_type": "code",
   "execution_count": 552,
   "metadata": {},
   "outputs": [],
   "source": [
    "if findOnlineRelatedSKUs.shape[1] == 2:\n",
    "     findOnlineRelatedSKUs.columns = ['Off', 'On']\n",
    "else:\n",
    "     findOnlineRelatedSKUs.columns = ['On']"
   ]
  },
  {
   "cell_type": "code",
   "execution_count": 553,
   "metadata": {},
   "outputs": [
    {
     "data": {
      "text/plain": [
       "(1030, 2)"
      ]
     },
     "execution_count": 553,
     "metadata": {},
     "output_type": "execute_result"
    }
   ],
   "source": [
    "findOnlineRelatedSKUs.shape"
   ]
  },
  {
   "cell_type": "code",
   "execution_count": 554,
   "metadata": {},
   "outputs": [
    {
     "data": {
      "text/plain": [
       "856"
      ]
     },
     "execution_count": 554,
     "metadata": {},
     "output_type": "execute_result"
    }
   ],
   "source": [
    "#Get SKUs from the smilar valid SKU list which were OnLine atleast\n",
    "similarSKU4DC = findOnlineRelatedSKUs[findOnlineRelatedSKUs[\"On\"] > 0].index\n",
    "len(similarSKU4DC)"
   ]
  },
  {
   "cell_type": "code",
   "execution_count": 555,
   "metadata": {},
   "outputs": [
    {
     "data": {
      "text/plain": [
       "(590, 19)"
      ]
     },
     "execution_count": 555,
     "metadata": {},
     "output_type": "execute_result"
    }
   ],
   "source": [
    "demandCurveDf = df_initial[df_initial.COD_SKU_CONFIG.isin(similarSKU4DC)]\n",
    "demandCurveDf = demandCurveDf[(demandCurveDf.date >= datetime.strptime(PeriodStartDate, \"%Y-%m-%d\")) \n",
    "             & (demandCurveDf.date <= datetime.strptime(offlineStartDate, \"%Y-%m-%d\") + timedelta(days=int(offlineDays)-1))]\n",
    "#demandCurveDf = demandCurveDf['date'].to_frame()\n",
    "demandCurveDf.shape"
   ]
  },
  {
   "cell_type": "code",
   "execution_count": 556,
   "metadata": {},
   "outputs": [],
   "source": [
    "if demandCurveDf.shape[0] > 0:\n",
    "    temp = pd.DataFrame(demandCurveDf.groupby(['date'])['Valid Total'].mean()).reset_index()\n",
    "    demandCurveDf = temp['date'].to_frame()\n",
    "    demandCurveDf['CummulativeQuantity'] = temp['Valid Total'].cumsum().round(1)\n",
    "    demandCurveDf['DemandPercent'] = (demandCurveDf['CummulativeQuantity']/demandCurveDf['CummulativeQuantity'].iloc[-1])*100"
   ]
  },
  {
   "cell_type": "code",
   "execution_count": 561,
   "metadata": {},
   "outputs": [
    {
     "data": {
      "text/html": [
       "<div>\n",
       "<style scoped>\n",
       "    .dataframe tbody tr th:only-of-type {\n",
       "        vertical-align: middle;\n",
       "    }\n",
       "\n",
       "    .dataframe tbody tr th {\n",
       "        vertical-align: top;\n",
       "    }\n",
       "\n",
       "    .dataframe thead th {\n",
       "        text-align: right;\n",
       "    }\n",
       "</style>\n",
       "<table border=\"1\" class=\"dataframe\">\n",
       "  <thead>\n",
       "    <tr style=\"text-align: right;\">\n",
       "      <th></th>\n",
       "      <th>date</th>\n",
       "      <th>CummulativeQuantity</th>\n",
       "      <th>DemandPercent</th>\n",
       "    </tr>\n",
       "  </thead>\n",
       "  <tbody>\n",
       "    <tr>\n",
       "      <th>28</th>\n",
       "      <td>2018-02-22</td>\n",
       "      <td>32.8</td>\n",
       "      <td>76.279070</td>\n",
       "    </tr>\n",
       "    <tr>\n",
       "      <th>29</th>\n",
       "      <td>2018-02-23</td>\n",
       "      <td>33.9</td>\n",
       "      <td>78.837209</td>\n",
       "    </tr>\n",
       "    <tr>\n",
       "      <th>30</th>\n",
       "      <td>2018-02-24</td>\n",
       "      <td>35.3</td>\n",
       "      <td>82.093023</td>\n",
       "    </tr>\n",
       "    <tr>\n",
       "      <th>31</th>\n",
       "      <td>2018-02-25</td>\n",
       "      <td>36.3</td>\n",
       "      <td>84.418605</td>\n",
       "    </tr>\n",
       "    <tr>\n",
       "      <th>32</th>\n",
       "      <td>2018-02-26</td>\n",
       "      <td>37.3</td>\n",
       "      <td>86.744186</td>\n",
       "    </tr>\n",
       "    <tr>\n",
       "      <th>33</th>\n",
       "      <td>2018-02-27</td>\n",
       "      <td>38.5</td>\n",
       "      <td>89.534884</td>\n",
       "    </tr>\n",
       "    <tr>\n",
       "      <th>34</th>\n",
       "      <td>2018-02-28</td>\n",
       "      <td>39.5</td>\n",
       "      <td>91.860465</td>\n",
       "    </tr>\n",
       "    <tr>\n",
       "      <th>35</th>\n",
       "      <td>2018-03-01</td>\n",
       "      <td>40.9</td>\n",
       "      <td>95.116279</td>\n",
       "    </tr>\n",
       "    <tr>\n",
       "      <th>36</th>\n",
       "      <td>2018-03-02</td>\n",
       "      <td>41.9</td>\n",
       "      <td>97.441860</td>\n",
       "    </tr>\n",
       "    <tr>\n",
       "      <th>37</th>\n",
       "      <td>2018-03-03</td>\n",
       "      <td>43.0</td>\n",
       "      <td>100.000000</td>\n",
       "    </tr>\n",
       "  </tbody>\n",
       "</table>\n",
       "</div>"
      ],
      "text/plain": [
       "         date  CummulativeQuantity  DemandPercent\n",
       "28 2018-02-22                 32.8      76.279070\n",
       "29 2018-02-23                 33.9      78.837209\n",
       "30 2018-02-24                 35.3      82.093023\n",
       "31 2018-02-25                 36.3      84.418605\n",
       "32 2018-02-26                 37.3      86.744186\n",
       "33 2018-02-27                 38.5      89.534884\n",
       "34 2018-02-28                 39.5      91.860465\n",
       "35 2018-03-01                 40.9      95.116279\n",
       "36 2018-03-02                 41.9      97.441860\n",
       "37 2018-03-03                 43.0     100.000000"
      ]
     },
     "execution_count": 561,
     "metadata": {},
     "output_type": "execute_result"
    }
   ],
   "source": [
    "demandCurveDf.tail(10)"
   ]
  },
  {
   "cell_type": "code",
   "execution_count": 558,
   "metadata": {},
   "outputs": [
    {
     "name": "stdout",
     "output_type": "stream",
     "text": [
      "          date  CummulativeQuantity  DemandPercent\n",
      "111 2018-01-26                    1           6.25\n",
      "112 2018-01-27                    2          12.50\n",
      "113 2018-01-31                    3          18.75\n",
      "114 2018-02-02                    6          37.50\n",
      "115 2018-02-04                    7          43.75\n",
      "116 2018-02-09                    8          50.00\n",
      "117 2018-02-12                    9          56.25\n",
      "118 2018-02-20                   11          68.75\n",
      "119 2018-02-22                   12          75.00\n",
      "120 2018-02-26                   13          81.25\n",
      "121 2018-02-28                   14          87.50\n",
      "122 2018-03-01                   16         100.00\n",
      "Recorded demand during Online period :  12\n"
     ]
    }
   ],
   "source": [
    "temp = df_initial[df_initial.COD_SKU_CONFIG == SKUid]\n",
    "temp = temp[(temp.date >= datetime.strptime(PeriodStartDate, \"%Y-%m-%d\")) \n",
    "                     & (temp.date <= datetime.strptime(offlineStartDate, \"%Y-%m-%d\") + timedelta(days=int(offlineDays)-1))]\n",
    "\n",
    "if temp['COD_SKU_CONFIG'].count() > 0:\n",
    "    onlineDemand = 1\n",
    "    demandCurveDf4Offline = temp['date'].to_frame()\n",
    "    demandCurveDf4Offline['CummulativeQuantity'] = temp[(temp.COD_SKU_CONFIG == SKUid)]['Valid Total'].cumsum()\n",
    "    demandCurveDf4Offline['DemandPercent'] = (demandCurveDf4Offline['CummulativeQuantity']/demandCurveDf4Offline['CummulativeQuantity'].iloc[-1])*100\n",
    "    print(demandCurveDf4Offline)\n",
    "    #print(\"Recorded demand during Online period : \",temp['COD_SKU_CONFIG'].count())\n",
    "else:\n",
    "    onlineDemand = 0\n",
    "    print(\"No Demand Recorded during Online period\")"
   ]
  },
  {
   "cell_type": "code",
   "execution_count": 559,
   "metadata": {},
   "outputs": [
    {
     "name": "stdout",
     "output_type": "stream",
     "text": [
      "Cummulative Quantity When Sold Out: 16\n",
      "Demand Percent of Category when the product went offline  0.9744186046511628\n",
      "Estiamted Lost Sales : 0.4200477326968972\n"
     ]
    }
   ],
   "source": [
    "if onlineDemand > 0:\n",
    "    dateOfOFFLine = offlineStartDate #demandCurveDf4Offline[demandCurveDf4Offline.DemandPercent == 100]['date'].values[0]\n",
    "    if int(offlineDays) > 1:\n",
    "        DemandPercentWhenSoldOut = demandCurveDf[demandCurveDf.date <= dateOfOFFLine].tail(1)['DemandPercent']/100\n",
    "    else:\n",
    "        DemandPercentWhenSoldOut = demandCurveDf[demandCurveDf.date <= dateOfOFFLine][-2:-1]['DemandPercent']/100\n",
    "    if DemandPercentWhenSoldOut.count() == 0:\n",
    "        print(\"Estiamted Lost Sales (Category SO) :\",DemandPercentWhenSoldOut.count())\n",
    "    else:\n",
    "        CummulativeQuantityWhenSoldOut = demandCurveDf4Offline[demandCurveDf4Offline.DemandPercent == 100]['CummulativeQuantity']\n",
    "        print(\"Cummulative Quantity When Sold Out:\",CummulativeQuantityWhenSoldOut.values[0])\n",
    "        print(\"Demand Percent of Category when the product went offline \",DemandPercentWhenSoldOut.values[0])\n",
    "        EstiamtedLostSales = CummulativeQuantityWhenSoldOut/DemandPercentWhenSoldOut.values[0]\n",
    "        print(\"Estiamted Lost Sales :\",(EstiamtedLostSales.values[0] - CummulativeQuantityWhenSoldOut).values[0])"
   ]
  },
  {
   "cell_type": "code",
   "execution_count": 562,
   "metadata": {},
   "outputs": [
    {
     "data": {
      "text/plain": [
       "Text(0.5,1,'Product Name: Golden Stylish Bracelet JP-1329')"
      ]
     },
     "execution_count": 562,
     "metadata": {},
     "output_type": "execute_result"
    },
    {
     "data": {
      "image/png": "[encoded data removed]",
      "text/plain": [
       "<matplotlib.figure.Figure at 0x7f8383199470>"
      ]
     },
     "metadata": {},
     "output_type": "display_data"
    }
   ],
   "source": [
    "plt.figure(figsize=(10,7))\n",
    "markers_on = [DemandPercentWhenSoldOut.index[0]]\n",
    "plt.plot(demandCurveDf.date, demandCurveDf.DemandPercent,'-bX',markevery=markers_on)\n",
    "\n",
    "for a,b in zip(demandCurveDf.date, demandCurveDf.DemandPercent): \n",
    "    if( b == DemandPercentWhenSoldOut.values[0] * 100):\n",
    "        plt.text(a, b, \"Category Demand % : \" + str(b) + \"  \\nDate : \" + str(a))\n",
    "        \n",
    "plt.ylabel('Percentage Demand', fontsize=12)\n",
    "plt.xlabel('Date', fontsize=12)\n",
    "plt.suptitle('Demand Curve of Category Segment : ' + df_initial[df_initial.COD_SKU_CONFIG == SKUid]['CatConcat'].values[0], fontsize=18)\n",
    "plt.title('Product Name: ' + df_initial[df_initial.COD_SKU_CONFIG == SKUid]['DSC_PRODUCT_NAME'].values[0], fontsize=14)\n"
   ]
  },
  {
   "cell_type": "code",
   "execution_count": 526,
   "metadata": {},
   "outputs": [],
   "source": [
    "def getEstimatedLostSale(SKUid,startDate,offlineStartDate,offlineDays,ifPrint):\n",
    "    \n",
    "    PeriodStartDate = startDate\n",
    "    \n",
    "    skuDemandCheckDf = df_initial[df_initial.COD_SKU_CONFIG == SKUid]\n",
    "\n",
    "    skuDemandCheckDf = skuDemandCheckDf[(skuDemandCheckDf.date >= datetime.strptime(PeriodStartDate, \"%Y-%m-%d\")) \n",
    "                     & (skuDemandCheckDf.date <= datetime.strptime(offlineStartDate, \"%Y-%m-%d\") + timedelta(days=int(offlineDays)-1))]\n",
    "\n",
    "    if PeriodStartDate == offlineStartDate:\n",
    "        return \"Product Offline : \" + str(datetime.strptime(startDate, \"%Y-%m-%d\")) + \" - \" + str(datetime.strptime(offlineStartDate, \"%Y-%m-%d\") + timedelta(days=int(offlineDays)-1))\n",
    " \n",
    "    elif skuDemandCheckDf['COD_SKU_CONFIG'].count() == 0:\n",
    "        return \"No Demand : \" + str(datetime.strptime(startDate, \"%Y-%m-%d\")) + \" - \" + str(datetime.strptime(offlineStartDate, \"%Y-%m-%d\") + timedelta(days=int(offlineDays)-1))\n",
    "    else:\n",
    "        \n",
    "        categoryName = df_initial[df_initial.COD_SKU_CONFIG == SKUid]['CatConcat'].unique()\n",
    "        \n",
    "        productame = df_initial[df_initial.COD_SKU_CONFIG == SKUid]['DSC_PRODUCT_NAME'].unique()\n",
    "       \n",
    "        brandName = df_initial[df_initial.COD_SKU_CONFIG == SKUid]['DSC_PRODUCT_BRAND_NAME_EN'].unique()\n",
    "        \n",
    "        relevantSkuList = df_initial[(df_initial.CatConcat == categoryName[0]) & (df_initial.COD_SKU_CONFIG != SKUid)]['COD_SKU_CONFIG'].unique()\n",
    "       \n",
    "        releventSKUdataFrame = df_prodVisible[(datetime.strptime(PeriodStartDate, \"%Y-%m-%d\").strftime(\"%Y-%m-%d\")) : (datetime.strptime(offlineStartDate, \"%Y-%m-%d\") + timedelta(days=int(offlineDays)-1)).strftime(\"%Y-%m-%d\")]\n",
    "\n",
    "        releventSKUdataFrame = releventSKUdataFrame[releventSKUdataFrame.columns.intersection(list(relevantSkuList))].apply(pd.Series.value_counts)\n",
    "        \n",
    "        ##If no relevent products found ONLINE during this time period \n",
    "        if len(releventSKUdataFrame) == 0:\n",
    "            return '0'\n",
    "        \n",
    "        findOnlineRelatedSKUs = releventSKUdataFrame\n",
    "        \n",
    "        findOnlineRelatedSKUs = findOnlineRelatedSKUs.T\n",
    "        \n",
    "        if findOnlineRelatedSKUs.shape[1] == 2:\n",
    "             findOnlineRelatedSKUs.columns = ['Off', 'On']\n",
    "        else:\n",
    "             findOnlineRelatedSKUs.columns = ['On']\n",
    "        #Get SKUs from the smilar valid SKU list which were OnLine atleast\n",
    "        similarSKU4DC = findOnlineRelatedSKUs[findOnlineRelatedSKUs[\"On\"] > 0].index\n",
    "        \n",
    "        demandCurveDf = df_initial[df_initial.COD_SKU_CONFIG.isin(similarSKU4DC)]\n",
    "        demandCurveDf = demandCurveDf[(demandCurveDf.date >= datetime.strptime(PeriodStartDate, \"%Y-%m-%d\")) \n",
    "             & (demandCurveDf.date <= datetime.strptime(offlineStartDate, \"%Y-%m-%d\") + timedelta(days=int(offlineDays)-1))]\n",
    "        \n",
    "        ##When No data found for the relevent Category of the SKU of search\n",
    "        if demandCurveDf.shape[0] == 0:\n",
    "            return '0'\n",
    "        \n",
    "        temp = pd.DataFrame(demandCurveDf.groupby(['date'])['Valid Total'].mean()).reset_index()\n",
    "        demandCurveDf = temp['date'].to_frame()\n",
    "        demandCurveDf['CummulativeQuantity'] = temp['Valid Total'].cumsum().round(1)\n",
    "        demandCurveDf['DemandPercent'] = (demandCurveDf['CummulativeQuantity']/demandCurveDf['CummulativeQuantity'].iloc[-1])*100\n",
    "        #demandCurveDf\n",
    "        \n",
    "        #####Demand Curve for Offlined SKU\n",
    "        demandCurveDf4Offline = skuDemandCheckDf['date'].to_frame()\n",
    "        demandCurveDf4Offline['CummulativeQuantity'] = skuDemandCheckDf[(skuDemandCheckDf.COD_SKU_CONFIG == SKUid)]['Valid Total'].cumsum()\n",
    "        demandCurveDf4Offline['DemandPercent'] = (demandCurveDf4Offline['CummulativeQuantity']/demandCurveDf4Offline['CummulativeQuantity'].iloc[-1])*100\n",
    "        #demandCurveDf4Offline\n",
    "        \n",
    "        #demandCurveDf4Offline[demandCurveDf4Offline.DemandPercent == 100]['date'].values[0]\n",
    "        #demandCurveDf4Offline\n",
    "        if int(offlineDays) > 1:\n",
    "            DemandPercentWhenSoldOut = demandCurveDf[demandCurveDf.date <= dateOfOFFLine].tail(1)['DemandPercent']/100\n",
    "        else:\n",
    "            DemandPercentWhenSoldOut = demandCurveDf[demandCurveDf.date <= dateOfOFFLine][-2:-1]['DemandPercent']/100\n",
    " \n",
    "        ## for case when the Product Category last sold was lesser then the product SKU itself , so we can assume that \n",
    "        ## there is no LOST sale , since SKU was sold after the category Overall was already been soldout .\n",
    "        ## example SKU and dates are 10259FA0924GYNAFAMZ and 4:5 Offline Record \n",
    "        \n",
    "        if DemandPercentWhenSoldOut.count() == 0:\n",
    "            return '0';\n",
    "        \n",
    "        CummulativeQuantityWhenSoldOut = demandCurveDf4Offline[demandCurveDf4Offline.DemandPercent == 100]['CummulativeQuantity']\n",
    "        \n",
    "        EstiamtedLostSales = CummulativeQuantityWhenSoldOut/DemandPercentWhenSoldOut.values[0]\n",
    "        \n",
    "        print(\"---------------------------------------------------------------------------\")\n",
    "        print(\"SKU: \",SKUid ,\" Start Date \",startDate, \" OfflineDate \", offlineStartDate , \" Offline for Days \", offlineDays, \"Demand % : \", DemandPercentWhenSoldOut.values[0], \"Total Demand when Offline : \", CummulativeQuantityWhenSoldOut.values[0])\n",
    "        print(\"Estiamted Lost Sales :\", (EstiamtedLostSales.values[0] - CummulativeQuantityWhenSoldOut).values[0])\n",
    "        \n",
    "        return (EstiamtedLostSales.values[0] - CummulativeQuantityWhenSoldOut).values[0]\n"
   ]
  },
  {
   "cell_type": "code",
   "execution_count": 527,
   "metadata": {},
   "outputs": [
    {
     "data": {
      "text/plain": [
       "'No Demand : 2018-04-06 00:00:00 - 2018-04-17 00:00:00'"
      ]
     },
     "execution_count": 527,
     "metadata": {},
     "output_type": "execute_result"
    }
   ],
   "source": [
    "getEstimatedLostSale(SKUid,PeriodStartDate,offlineStartDate,offlineDays,True)"
   ]
  },
  {
   "cell_type": "code",
   "execution_count": 528,
   "metadata": {},
   "outputs": [
    {
     "name": "stdout",
     "output_type": "stream",
     "text": [
      "Local current time : 1526623837.9522161\n",
      "---------------------------------------------------------------------------\n",
      "SKU:  AK915HB0ZYKLKNAFAMZ  Start Date  2018-01-25  OfflineDate  2018-01-27  Offline for Days  1 Demand % :  0.6818181818181818 Total Demand when Offline :  1\n",
      "Estiamted Lost Sales : 0.4666666666666668\n",
      "---------------------------------------------------------------------------\n",
      "SKU:  AK915HB0ZYKLKNAFAMZ  Start Date  2018-01-28  OfflineDate  2018-01-30  Offline for Days  1 Demand % :  0.5853658536585367 Total Demand when Offline :  2\n",
      "Estiamted Lost Sales : 1.416666666666666\n",
      "---------------------------------------------------------------------------\n",
      "SKU:  AK915HB0ZYKLKNAFAMZ  Start Date  2018-01-31  OfflineDate  2018-03-01  Offline for Days  1 Demand % :  0.9678899082568807 Total Demand when Offline :  1\n",
      "Estiamted Lost Sales : 0.033175355450236976\n",
      "total time taken : 4.3132805824279785\n"
     ]
    }
   ],
   "source": [
    "startDate = None\n",
    "previousSKU = None\n",
    "currentSKU = None\n",
    "estLostSale = []\n",
    "endDate = None \n",
    "baseStartDate = \"2017-12-01\"\n",
    "import time;\n",
    "\n",
    "localtime = time.time()\n",
    "print(\"Local current time :\", localtime)\n",
    "for i, row in formattedDf[formattedDf.SKU == 'AK915HB0ZYKLKNAFAMZ'].iterrows():\n",
    "    currentSKU = row['SKU']\n",
    "    if previousSKU == None:\n",
    "        previousSKU = currentSKU\n",
    "    elif previousSKU != currentSKU:\n",
    "        startDate = None\n",
    "        previousSKU = currentSKU\n",
    "        #print(\"SKU Changed .. Updating SKU\")\n",
    "    \n",
    "    if startDate == None:\n",
    "        startDate = datetime.strptime(baseStartDate, \"%Y-%m-%d\").strftime(\"%Y-%m-%d\")\n",
    "        #print(\"Start : \",startDate)\n",
    "        endDate = datetime.strptime(row['OfflineDate'], \"%Y-%m-%d\") + timedelta(days=int(row['OfflineDays'])-1)\n",
    "        #print(\"End : \", endDate)\n",
    "    else:\n",
    "        startDate = endDate + timedelta(days=int(1))\n",
    "        #print(\"Start : \",startDate)\n",
    "        delta = startDate - (datetime.strptime(row['OfflineDate'], \"%Y-%m-%d\") + timedelta(days=int(row['OfflineDays'])-1))\n",
    "        delta = delta.days * -1\n",
    "        #print(\"Delta : \", delta)\n",
    "        endDate = (datetime.strptime(startDate.strftime(\"%Y-%m-%d\"), \"%Y-%m-%d\") + timedelta(days=int(delta)))\n",
    "        #endDate = endDate.strftime(\"%Y-%m-%d\")\n",
    "        startDate = startDate.strftime(\"%Y-%m-%d\")\n",
    "        #print(\"End : \", endDate)\n",
    "        if i % 200 == 0:\n",
    "            estLostSale.append(getEstimatedLostSale(row['SKU'],startDate,row['OfflineDate'],row['OfflineDays'],True))\n",
    "        else:\n",
    "            estLostSale.append(getEstimatedLostSale(row['SKU'],startDate,row['OfflineDate'],row['OfflineDays'],False))\n",
    "     \n",
    "\n",
    "    \n",
    "localtime2 = time.time()\n",
    "print(\"total time taken :\", localtime2-localtime)"
   ]
  },
  {
   "cell_type": "code",
   "execution_count": 507,
   "metadata": {},
   "outputs": [
    {
     "data": {
      "text/html": [
       "<div>\n",
       "<style scoped>\n",
       "    .dataframe tbody tr th:only-of-type {\n",
       "        vertical-align: middle;\n",
       "    }\n",
       "\n",
       "    .dataframe tbody tr th {\n",
       "        vertical-align: top;\n",
       "    }\n",
       "\n",
       "    .dataframe thead th {\n",
       "        text-align: right;\n",
       "    }\n",
       "</style>\n",
       "<table border=\"1\" class=\"dataframe\">\n",
       "  <thead>\n",
       "    <tr style=\"text-align: right;\">\n",
       "      <th></th>\n",
       "      <th>OfflineDate</th>\n",
       "      <th>OfflineDays</th>\n",
       "      <th>SKU</th>\n",
       "    </tr>\n",
       "  </thead>\n",
       "  <tbody>\n",
       "    <tr>\n",
       "      <th>70414</th>\n",
       "      <td>2018-01-13</td>\n",
       "      <td>2</td>\n",
       "      <td>AK915HB0ZYKLKNAFAMZ</td>\n",
       "    </tr>\n",
       "    <tr>\n",
       "      <th>70415</th>\n",
       "      <td>2018-01-23</td>\n",
       "      <td>2</td>\n",
       "      <td>AK915HB0ZYKLKNAFAMZ</td>\n",
       "    </tr>\n",
       "    <tr>\n",
       "      <th>70416</th>\n",
       "      <td>2018-01-27</td>\n",
       "      <td>1</td>\n",
       "      <td>AK915HB0ZYKLKNAFAMZ</td>\n",
       "    </tr>\n",
       "    <tr>\n",
       "      <th>70417</th>\n",
       "      <td>2018-01-30</td>\n",
       "      <td>1</td>\n",
       "      <td>AK915HB0ZYKLKNAFAMZ</td>\n",
       "    </tr>\n",
       "    <tr>\n",
       "      <th>70418</th>\n",
       "      <td>2018-03-01</td>\n",
       "      <td>1</td>\n",
       "      <td>AK915HB0ZYKLKNAFAMZ</td>\n",
       "    </tr>\n",
       "    <tr>\n",
       "      <th>70419</th>\n",
       "      <td>2018-03-03</td>\n",
       "      <td>1</td>\n",
       "      <td>AK915HB0ZYKLKNAFAMZ</td>\n",
       "    </tr>\n",
       "    <tr>\n",
       "      <th>70420</th>\n",
       "      <td>2018-03-06</td>\n",
       "      <td>1</td>\n",
       "      <td>AK915HB0ZYKLKNAFAMZ</td>\n",
       "    </tr>\n",
       "    <tr>\n",
       "      <th>70421</th>\n",
       "      <td>2018-03-10</td>\n",
       "      <td>3</td>\n",
       "      <td>AK915HB0ZYKLKNAFAMZ</td>\n",
       "    </tr>\n",
       "    <tr>\n",
       "      <th>70422</th>\n",
       "      <td>2018-04-05</td>\n",
       "      <td>1</td>\n",
       "      <td>AK915HB0ZYKLKNAFAMZ</td>\n",
       "    </tr>\n",
       "    <tr>\n",
       "      <th>70423</th>\n",
       "      <td>2018-04-17</td>\n",
       "      <td>1</td>\n",
       "      <td>AK915HB0ZYKLKNAFAMZ</td>\n",
       "    </tr>\n",
       "    <tr>\n",
       "      <th>70424</th>\n",
       "      <td>2018-04-19</td>\n",
       "      <td>1</td>\n",
       "      <td>AK915HB0ZYKLKNAFAMZ</td>\n",
       "    </tr>\n",
       "  </tbody>\n",
       "</table>\n",
       "</div>"
      ],
      "text/plain": [
       "      OfflineDate  OfflineDays                  SKU\n",
       "70414  2018-01-13            2  AK915HB0ZYKLKNAFAMZ\n",
       "70415  2018-01-23            2  AK915HB0ZYKLKNAFAMZ\n",
       "70416  2018-01-27            1  AK915HB0ZYKLKNAFAMZ\n",
       "70417  2018-01-30            1  AK915HB0ZYKLKNAFAMZ\n",
       "70418  2018-03-01            1  AK915HB0ZYKLKNAFAMZ\n",
       "70419  2018-03-03            1  AK915HB0ZYKLKNAFAMZ\n",
       "70420  2018-03-06            1  AK915HB0ZYKLKNAFAMZ\n",
       "70421  2018-03-10            3  AK915HB0ZYKLKNAFAMZ\n",
       "70422  2018-04-05            1  AK915HB0ZYKLKNAFAMZ\n",
       "70423  2018-04-17            1  AK915HB0ZYKLKNAFAMZ\n",
       "70424  2018-04-19            1  AK915HB0ZYKLKNAFAMZ"
      ]
     },
     "execution_count": 507,
     "metadata": {},
     "output_type": "execute_result"
    }
   ],
   "source": [
    "#facts['pop2050'] = formattedDf[:500].apply(final_pop,axis=1)\n",
    "test = formattedDf.reset_index()\n",
    "test.drop(['index'],axis=1, inplace=True)\n",
    "test[test.SKU == 'AK915HB0ZYKLKNAFAMZ']"
   ]
  },
  {
   "cell_type": "code",
   "execution_count": null,
   "metadata": {},
   "outputs": [],
   "source": [
    "def ifNumber(s):\n",
    "    try: \n",
    "        float(s)\n",
    "        return True\n",
    "    except ValueError:\n",
    "        return False"
   ]
  },
  {
   "cell_type": "code",
   "execution_count": null,
   "metadata": {},
   "outputs": [],
   "source": [
    "#pd.DataFrame(estLostSale).shape\n",
    "pd.DataFrame(estLostSale).to_pickle('./lostSaleEstimates',compression='infer', protocol=4)"
   ]
  },
  {
   "cell_type": "code",
   "execution_count": null,
   "metadata": {},
   "outputs": [],
   "source": [
    "temp = pd.concat([formattedDf[:2000].reset_index(),pd.DataFrame(estLostSale).reset_index()], axis=1) \n",
    "temp.columns = ['index', 'OfflineDate', 'OfflineDays', 'SKU', 'index', 'EstLostSales']"
   ]
  },
  {
   "cell_type": "code",
   "execution_count": null,
   "metadata": {},
   "outputs": [],
   "source": [
    "temp[['SKU','EstLostSales','OfflineDate', 'OfflineDays' ]]"
   ]
  }
 ],
 "metadata": {
  "kernelspec": {
   "display_name": "Python 3",
   "language": "python",
   "name": "python3"
  },
  "language_info": {
   "codemirror_mode": {
    "name": "ipython",
    "version": 3
   },
   "file_extension": ".py",
   "mimetype": "text/x-python",
   "name": "python",
   "nbconvert_exporter": "python",
   "pygments_lexer": "ipython3",
   "version": "3.6.4"
  }
 },
 "nbformat": 4,
 "nbformat_minor": 2
}
