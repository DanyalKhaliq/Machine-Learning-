{
 "cells": [
  {
   "cell_type": "code",
   "execution_count": 42,
   "metadata": {},
   "outputs": [],
   "source": [
    "import pymysql.cursors\n",
    "import pandas as pd\n",
    "from datetime import datetime, timedelta\n",
    "import calendar\n",
    "import numpy as np\n",
    "import matplotlib.pyplot as plt\n",
    "import seaborn as sns\n",
    "%matplotlib inline\n"
   ]
  },
  {
   "cell_type": "code",
   "execution_count": 2,
   "metadata": {},
   "outputs": [],
   "source": [
    "#import pyodbc\n",
    "#conn = pyodbc.connect(\"DRIVER={{ODBC Driver 17 for SQL Server}};SERVER={0}; database={1};UID={2};PWD={3}\".format('10.20.2.110,1433','AIG_DARAZ_PK_DW','daraz-tools','JfF7ziSCNk5jPxd'))\n",
    "#cursor = conn.cursor()\n",
    "\n",
    "#query = open('SqlForDailyDemandData.sql', 'r')\n",
    "#dataFrame_initial = pd.read_sql_query(query.read(), conn)\n",
    "#dataFrame_initial.shape"
   ]
  },
  {
   "cell_type": "code",
   "execution_count": 3,
   "metadata": {},
   "outputs": [],
   "source": [
    "#dataFrame_initial.to_pickle('./dataFile',compression='infer', protocol=4)"
   ]
  },
  {
   "cell_type": "code",
   "execution_count": 4,
   "metadata": {},
   "outputs": [],
   "source": [
    "df_initial = pd.read_pickle('./dataFile', compression='infer')"
   ]
  },
  {
   "cell_type": "code",
   "execution_count": 5,
   "metadata": {},
   "outputs": [],
   "source": [
    "#df_initial.dtypes"
   ]
  },
  {
   "cell_type": "code",
   "execution_count": 6,
   "metadata": {},
   "outputs": [],
   "source": [
    "#query = open('ProductVisibility.sql', 'r')\n",
    "#df_prodVisible = pd.read_sql_query(query.read(), conn)\n",
    "#df_prodVisible.shape"
   ]
  },
  {
   "cell_type": "code",
   "execution_count": 5,
   "metadata": {},
   "outputs": [],
   "source": [
    "#df_prodVisible.to_pickle('./productVisibilityDataFile',compression='infer', protocol=4)\n",
    "df_prodVisible = pd.read_pickle('./productVisibilityDataFile', compression='infer')\n"
   ]
  },
  {
   "cell_type": "code",
   "execution_count": 6,
   "metadata": {},
   "outputs": [
    {
     "data": {
      "text/html": [
       "<div>\n",
       "<style scoped>\n",
       "    .dataframe tbody tr th:only-of-type {\n",
       "        vertical-align: middle;\n",
       "    }\n",
       "\n",
       "    .dataframe tbody tr th {\n",
       "        vertical-align: top;\n",
       "    }\n",
       "\n",
       "    .dataframe thead th {\n",
       "        text-align: right;\n",
       "    }\n",
       "</style>\n",
       "<table border=\"1\" class=\"dataframe\">\n",
       "  <thead>\n",
       "    <tr style=\"text-align: right;\">\n",
       "      <th></th>\n",
       "      <th>COD_SKU_CONFIG</th>\n",
       "      <th>date</th>\n",
       "      <th>DSC_CATEGORY_NAME_LEVEL_1</th>\n",
       "      <th>DSC_CATEGORY_NAME_LEVEL_2</th>\n",
       "      <th>DSC_CATEGORY_NAME_LEVEL_3</th>\n",
       "      <th>DSC_CATEGORY_NAME_LEVEL_4</th>\n",
       "      <th>DSC_PRODUCT_NAME</th>\n",
       "      <th>DSC_PRODUCT_BRAND_NAME_EN</th>\n",
       "      <th>DSC_PRODUCT_SIZE</th>\n",
       "      <th>DSC_PRODUCT_COLOR</th>\n",
       "      <th>DSC_PRODUCT_WEIGHT</th>\n",
       "      <th>DSC_SHIPPING_METHOD</th>\n",
       "      <th>Android</th>\n",
       "      <th>Desktop</th>\n",
       "      <th>iOS</th>\n",
       "      <th>Mobile (Theme)</th>\n",
       "      <th>Amount</th>\n",
       "      <th>Valid Total</th>\n",
       "    </tr>\n",
       "  </thead>\n",
       "  <tbody>\n",
       "    <tr>\n",
       "      <th>1066686</th>\n",
       "      <td>RO711EL1LP57QNAFAMZ</td>\n",
       "      <td>2017-12-01</td>\n",
       "      <td>Phones &amp; Tablets</td>\n",
       "      <td>Phone &amp; Tablet Accessories</td>\n",
       "      <td>Power Banks</td>\n",
       "      <td>7100 - 10000+ mAh Power Bank</td>\n",
       "      <td>Solo 3 Powerbank With Light- 6000mAh  - White</td>\n",
       "      <td>Romoss</td>\n",
       "      <td></td>\n",
       "      <td>White</td>\n",
       "      <td>0.5</td>\n",
       "      <td>UniversalShippingMatrix</td>\n",
       "      <td>1</td>\n",
       "      <td>0</td>\n",
       "      <td>0</td>\n",
       "      <td>0</td>\n",
       "      <td>968.0</td>\n",
       "      <td>1</td>\n",
       "    </tr>\n",
       "    <tr>\n",
       "      <th>548709</th>\n",
       "      <td>HA779HL0DDK8GNAFAMZ</td>\n",
       "      <td>2017-12-01</td>\n",
       "      <td>Appliances</td>\n",
       "      <td>Large Appliances</td>\n",
       "      <td>Cooling</td>\n",
       "      <td>Cooling</td>\n",
       "      <td>HSU-18LK10/L011 - Split Ac - 1.5 Ton - White</td>\n",
       "      <td>Haier - Official</td>\n",
       "      <td></td>\n",
       "      <td>White</td>\n",
       "      <td>60</td>\n",
       "      <td>UniversalShippingMatrix</td>\n",
       "      <td>1</td>\n",
       "      <td>0</td>\n",
       "      <td>0</td>\n",
       "      <td>0</td>\n",
       "      <td>39578.0</td>\n",
       "      <td>1</td>\n",
       "    </tr>\n",
       "    <tr>\n",
       "      <th>1276971</th>\n",
       "      <td>TH134EL0L0D7YNAFAMZ</td>\n",
       "      <td>2017-12-01</td>\n",
       "      <td>Phones &amp; Tablets</td>\n",
       "      <td>Phone &amp; Tablet Accessories</td>\n",
       "      <td>Cases &amp; Covers</td>\n",
       "      <td>Iphone &amp; Ipad</td>\n",
       "      <td>Iphone X Premium Jelly Case - Transparent</td>\n",
       "      <td>Daraz Accessories</td>\n",
       "      <td></td>\n",
       "      <td>Neutral</td>\n",
       "      <td>0.2</td>\n",
       "      <td>UniversalShippingMatrix</td>\n",
       "      <td>0</td>\n",
       "      <td>0</td>\n",
       "      <td>1</td>\n",
       "      <td>0</td>\n",
       "      <td>149.0</td>\n",
       "      <td>1</td>\n",
       "    </tr>\n",
       "    <tr>\n",
       "      <th>398560</th>\n",
       "      <td>EA835EL0WDZIMNAFAMZ</td>\n",
       "      <td>2017-12-01</td>\n",
       "      <td>Phones &amp; Tablets</td>\n",
       "      <td>Phone &amp; Tablet Accessories</td>\n",
       "      <td>Other Accessories</td>\n",
       "      <td>Others</td>\n",
       "      <td>Universal Mobile Phone GPS Car Holder 360 Degr...</td>\n",
       "      <td>Earldom</td>\n",
       "      <td></td>\n",
       "      <td>Yellow &amp; Black</td>\n",
       "      <td>0.2</td>\n",
       "      <td>UniversalShippingMatrix</td>\n",
       "      <td>1</td>\n",
       "      <td>0</td>\n",
       "      <td>0</td>\n",
       "      <td>0</td>\n",
       "      <td>750.0</td>\n",
       "      <td>1</td>\n",
       "    </tr>\n",
       "    <tr>\n",
       "      <th>271913</th>\n",
       "      <td>CM114EL0TWC9SNAFAMZ</td>\n",
       "      <td>2017-12-01</td>\n",
       "      <td>Phones &amp; Tablets</td>\n",
       "      <td>Land Line</td>\n",
       "      <td>Corded</td>\n",
       "      <td>N/A</td>\n",
       "      <td>LCD Touch Panel Telephone With 8 Digit Calcula...</td>\n",
       "      <td>CM</td>\n",
       "      <td></td>\n",
       "      <td>N/A</td>\n",
       "      <td>0.5</td>\n",
       "      <td>UniversalShippingMatrix</td>\n",
       "      <td>1</td>\n",
       "      <td>1</td>\n",
       "      <td>0</td>\n",
       "      <td>0</td>\n",
       "      <td>1099.0</td>\n",
       "      <td>2</td>\n",
       "    </tr>\n",
       "  </tbody>\n",
       "</table>\n",
       "</div>"
      ],
      "text/plain": [
       "              COD_SKU_CONFIG       date DSC_CATEGORY_NAME_LEVEL_1  \\\n",
       "1066686  RO711EL1LP57QNAFAMZ 2017-12-01          Phones & Tablets   \n",
       "548709   HA779HL0DDK8GNAFAMZ 2017-12-01                Appliances   \n",
       "1276971  TH134EL0L0D7YNAFAMZ 2017-12-01          Phones & Tablets   \n",
       "398560   EA835EL0WDZIMNAFAMZ 2017-12-01          Phones & Tablets   \n",
       "271913   CM114EL0TWC9SNAFAMZ 2017-12-01          Phones & Tablets   \n",
       "\n",
       "          DSC_CATEGORY_NAME_LEVEL_2 DSC_CATEGORY_NAME_LEVEL_3  \\\n",
       "1066686  Phone & Tablet Accessories               Power Banks   \n",
       "548709             Large Appliances                   Cooling   \n",
       "1276971  Phone & Tablet Accessories            Cases & Covers   \n",
       "398560   Phone & Tablet Accessories         Other Accessories   \n",
       "271913                    Land Line                    Corded   \n",
       "\n",
       "            DSC_CATEGORY_NAME_LEVEL_4  \\\n",
       "1066686  7100 - 10000+ mAh Power Bank   \n",
       "548709                        Cooling   \n",
       "1276971                 Iphone & Ipad   \n",
       "398560                         Others   \n",
       "271913                            N/A   \n",
       "\n",
       "                                          DSC_PRODUCT_NAME  \\\n",
       "1066686      Solo 3 Powerbank With Light- 6000mAh  - White   \n",
       "548709        HSU-18LK10/L011 - Split Ac - 1.5 Ton - White   \n",
       "1276971          Iphone X Premium Jelly Case - Transparent   \n",
       "398560   Universal Mobile Phone GPS Car Holder 360 Degr...   \n",
       "271913   LCD Touch Panel Telephone With 8 Digit Calcula...   \n",
       "\n",
       "        DSC_PRODUCT_BRAND_NAME_EN DSC_PRODUCT_SIZE DSC_PRODUCT_COLOR  \\\n",
       "1066686                    Romoss                              White   \n",
       "548709           Haier - Official                              White   \n",
       "1276971         Daraz Accessories                            Neutral   \n",
       "398560                    Earldom                     Yellow & Black   \n",
       "271913                         CM                                N/A   \n",
       "\n",
       "        DSC_PRODUCT_WEIGHT      DSC_SHIPPING_METHOD  Android  Desktop  iOS  \\\n",
       "1066686                0.5  UniversalShippingMatrix        1        0    0   \n",
       "548709                  60  UniversalShippingMatrix        1        0    0   \n",
       "1276971                0.2  UniversalShippingMatrix        0        0    1   \n",
       "398560                 0.2  UniversalShippingMatrix        1        0    0   \n",
       "271913                 0.5  UniversalShippingMatrix        1        1    0   \n",
       "\n",
       "         Mobile (Theme)   Amount  Valid Total  \n",
       "1066686               0    968.0            1  \n",
       "548709                0  39578.0            1  \n",
       "1276971               0    149.0            1  \n",
       "398560                0    750.0            1  \n",
       "271913                0   1099.0            2  "
      ]
     },
     "execution_count": 6,
     "metadata": {},
     "output_type": "execute_result"
    }
   ],
   "source": [
    "df_initial['date'] = pd.to_datetime(df_initial['date'])\n",
    "df_initial.sort_values(by='date').head()"
   ]
  },
  {
   "cell_type": "code",
   "execution_count": 9,
   "metadata": {},
   "outputs": [],
   "source": [
    "#df_initial['DSC_PRODUCT_WEIGHT'].unique()"
   ]
  },
  {
   "cell_type": "code",
   "execution_count": 10,
   "metadata": {},
   "outputs": [],
   "source": [
    "import re\n",
    "df_initial['DSC_PRODUCT_WEIGHT'] = df_initial['DSC_PRODUCT_WEIGHT'].apply(lambda x : re.sub(r'#', r'0', str(x)))\n",
    "df_initial['DSC_PRODUCT_WEIGHT'] = df_initial['DSC_PRODUCT_WEIGHT'].apply(lambda x : re.sub(r'[a-zA-Z]', '', str(x)))\n",
    "df_initial['DSC_PRODUCT_WEIGHT'] = df_initial['DSC_PRODUCT_WEIGHT'].apply(lambda x : re.sub(r'([.])\\1+', r'\\1', str(x)))\n",
    "df_initial['DSC_PRODUCT_WEIGHT'] = df_initial['DSC_PRODUCT_WEIGHT'].apply(lambda x : re.sub(r'/', r'', str(x)))\n",
    "df_initial['DSC_PRODUCT_WEIGHT'] = df_initial['DSC_PRODUCT_WEIGHT'].apply(lambda x : re.sub(r'[!]', '0', str(x)))\n",
    "df_initial['DSC_PRODUCT_WEIGHT'] = pd.to_numeric(df_initial['DSC_PRODUCT_WEIGHT'])\n"
   ]
  },
  {
   "cell_type": "code",
   "execution_count": 11,
   "metadata": {},
   "outputs": [],
   "source": [
    "#df_initial.describe()"
   ]
  },
  {
   "cell_type": "code",
   "execution_count": 12,
   "metadata": {},
   "outputs": [],
   "source": [
    "#df_initial[df_initial.DSC_PRODUCT_WEIGHT == df_initial['DSC_PRODUCT_WEIGHT'].max()]"
   ]
  },
  {
   "cell_type": "code",
   "execution_count": 8,
   "metadata": {},
   "outputs": [],
   "source": [
    "df_initial['CatConcat'] = df_initial[['DSC_CATEGORY_NAME_LEVEL_1', 'DSC_CATEGORY_NAME_LEVEL_2','DSC_CATEGORY_NAME_LEVEL_3','DSC_CATEGORY_NAME_LEVEL_4']].apply(lambda x: ' '.join(x.str.strip()), axis=1)"
   ]
  },
  {
   "cell_type": "code",
   "execution_count": 9,
   "metadata": {},
   "outputs": [],
   "source": [
    "#df_initial[df_initial.CatConcat == \"Grocer's Shop Cooking Essentials Rice, Flours, Pulses & Grains Rice\"]['DSC_PRODUCT_NAME'].value_counts()[:10]"
   ]
  },
  {
   "cell_type": "code",
   "execution_count": 10,
   "metadata": {},
   "outputs": [],
   "source": [
    "# df_initial[df_initial.DSC_PRODUCT_NAME == 'Super Kernel Basmati Rice']['COD_SKU_CONFIG'].value_counts()"
   ]
  },
  {
   "cell_type": "code",
   "execution_count": 11,
   "metadata": {},
   "outputs": [],
   "source": [
    "# df_initial[(df_initial.DSC_PRODUCT_NAME == 'Super Kernel Basmati Rice') &\n",
    "#            (df_initial.DSC_PRODUCT_BRAND_NAME_EN == 'Xidmat')]['date'].max()"
   ]
  },
  {
   "cell_type": "code",
   "execution_count": 12,
   "metadata": {},
   "outputs": [],
   "source": [
    "# newDf = df_initial[(df_initial.COD_SKU_CONFIG == 'RE775OT1GWF5GNAFAMZ')]['date'].to_frame()\n",
    "\n",
    "# newDf['CummulativeQuantity'] = df_initial[(df_initial.COD_SKU_CONFIG == 'RE775OT1GWF5GNAFAMZ')]['Valid Total'].cumsum()\n",
    "\n",
    "# newDf['DemandPercent'] = (newDf['CummulativeQuantity']/newDf['CummulativeQuantity'].iloc[-1])*100"
   ]
  },
  {
   "cell_type": "code",
   "execution_count": 13,
   "metadata": {},
   "outputs": [],
   "source": [
    "#df_initial[(df_initial.COD_SKU_CONFIG == 'RE775OT1GWF5GNAFAMZ')].head()"
   ]
  },
  {
   "cell_type": "code",
   "execution_count": 14,
   "metadata": {},
   "outputs": [],
   "source": [
    "#newDf[40:105]"
   ]
  },
  {
   "cell_type": "code",
   "execution_count": 15,
   "metadata": {},
   "outputs": [],
   "source": [
    "# plt.figure(figsize=(10,7))\n",
    "# plt.plot(newDf.date, newDf.DemandPercent)\n",
    "# plt.ylabel('Percentage Demand', fontsize=12)\n",
    "# plt.xlabel('Date', fontsize=12)"
   ]
  },
  {
   "cell_type": "code",
   "execution_count": 16,
   "metadata": {},
   "outputs": [],
   "source": [
    "df_prodVisible = df_prodVisible.fillna(0)\n",
    "\n",
    "df_prodVisible = df_prodVisible.T"
   ]
  },
  {
   "cell_type": "code",
   "execution_count": 17,
   "metadata": {},
   "outputs": [
    {
     "data": {
      "text/html": [
       "<div>\n",
       "<style scoped>\n",
       "    .dataframe tbody tr th:only-of-type {\n",
       "        vertical-align: middle;\n",
       "    }\n",
       "\n",
       "    .dataframe tbody tr th {\n",
       "        vertical-align: top;\n",
       "    }\n",
       "\n",
       "    .dataframe thead th {\n",
       "        text-align: right;\n",
       "    }\n",
       "</style>\n",
       "<table border=\"1\" class=\"dataframe\">\n",
       "  <thead>\n",
       "    <tr style=\"text-align: right;\">\n",
       "      <th>DD_COD_SKU_CONFIG</th>\n",
       "      <th>00301FA0IW7BMNAFAMZ</th>\n",
       "      <th>00301FA0QSN4YNAFAMZ</th>\n",
       "      <th>00301FA0WQZ6QNAFAMZ</th>\n",
       "      <th>00301FA1IM7MANAFAMZ</th>\n",
       "      <th>10259FA000PQYNAFAMZ</th>\n",
       "      <th>10259FA002UWQNAFAMZ</th>\n",
       "      <th>10259FA0074AYNAFAMZ</th>\n",
       "      <th>10259FA00FGGINAFAMZ</th>\n",
       "      <th>10259FA00LZEANAFAMZ</th>\n",
       "      <th>10259FA00M5CQNAFAMZ</th>\n",
       "      <th>...</th>\n",
       "      <th>ZZ970FA12FBTMNAFAMZ</th>\n",
       "      <th>ZZ970FA138WHENAFAMZ</th>\n",
       "      <th>ZZ970FA153S1MNAFAMZ</th>\n",
       "      <th>ZZ970FA15MMWINAFAMZ</th>\n",
       "      <th>ZZ970FA17S89MNAFAMZ</th>\n",
       "      <th>ZZ970FA1BKYYANAFAMZ</th>\n",
       "      <th>ZZ970FA1E9URENAFAMZ</th>\n",
       "      <th>ZZ970FA1GESO2NAFAMZ</th>\n",
       "      <th>ZZ970FA1KKTWINAFAMZ</th>\n",
       "      <th>ZZ970FA1NHN1UNAFAMZ</th>\n",
       "    </tr>\n",
       "  </thead>\n",
       "  <tbody>\n",
       "    <tr>\n",
       "      <th>2017-12-01</th>\n",
       "      <td>0</td>\n",
       "      <td>0</td>\n",
       "      <td>0</td>\n",
       "      <td>0</td>\n",
       "      <td>0</td>\n",
       "      <td>0</td>\n",
       "      <td>1</td>\n",
       "      <td>1</td>\n",
       "      <td>1</td>\n",
       "      <td>0</td>\n",
       "      <td>...</td>\n",
       "      <td>0</td>\n",
       "      <td>0</td>\n",
       "      <td>0</td>\n",
       "      <td>0</td>\n",
       "      <td>0</td>\n",
       "      <td>0</td>\n",
       "      <td>0</td>\n",
       "      <td>0</td>\n",
       "      <td>0</td>\n",
       "      <td>0</td>\n",
       "    </tr>\n",
       "    <tr>\n",
       "      <th>2017-12-02</th>\n",
       "      <td>0</td>\n",
       "      <td>0</td>\n",
       "      <td>0</td>\n",
       "      <td>0</td>\n",
       "      <td>0</td>\n",
       "      <td>0</td>\n",
       "      <td>1</td>\n",
       "      <td>1</td>\n",
       "      <td>1</td>\n",
       "      <td>0</td>\n",
       "      <td>...</td>\n",
       "      <td>0</td>\n",
       "      <td>0</td>\n",
       "      <td>0</td>\n",
       "      <td>0</td>\n",
       "      <td>0</td>\n",
       "      <td>0</td>\n",
       "      <td>0</td>\n",
       "      <td>0</td>\n",
       "      <td>0</td>\n",
       "      <td>0</td>\n",
       "    </tr>\n",
       "    <tr>\n",
       "      <th>2017-12-03</th>\n",
       "      <td>0</td>\n",
       "      <td>0</td>\n",
       "      <td>0</td>\n",
       "      <td>0</td>\n",
       "      <td>0</td>\n",
       "      <td>0</td>\n",
       "      <td>1</td>\n",
       "      <td>1</td>\n",
       "      <td>1</td>\n",
       "      <td>0</td>\n",
       "      <td>...</td>\n",
       "      <td>0</td>\n",
       "      <td>0</td>\n",
       "      <td>0</td>\n",
       "      <td>0</td>\n",
       "      <td>0</td>\n",
       "      <td>0</td>\n",
       "      <td>0</td>\n",
       "      <td>0</td>\n",
       "      <td>0</td>\n",
       "      <td>0</td>\n",
       "    </tr>\n",
       "    <tr>\n",
       "      <th>2017-12-04</th>\n",
       "      <td>0</td>\n",
       "      <td>0</td>\n",
       "      <td>0</td>\n",
       "      <td>0</td>\n",
       "      <td>0</td>\n",
       "      <td>0</td>\n",
       "      <td>1</td>\n",
       "      <td>1</td>\n",
       "      <td>1</td>\n",
       "      <td>0</td>\n",
       "      <td>...</td>\n",
       "      <td>0</td>\n",
       "      <td>0</td>\n",
       "      <td>0</td>\n",
       "      <td>0</td>\n",
       "      <td>0</td>\n",
       "      <td>0</td>\n",
       "      <td>0</td>\n",
       "      <td>0</td>\n",
       "      <td>0</td>\n",
       "      <td>0</td>\n",
       "    </tr>\n",
       "    <tr>\n",
       "      <th>2017-12-05</th>\n",
       "      <td>0</td>\n",
       "      <td>0</td>\n",
       "      <td>0</td>\n",
       "      <td>0</td>\n",
       "      <td>0</td>\n",
       "      <td>0</td>\n",
       "      <td>1</td>\n",
       "      <td>1</td>\n",
       "      <td>1</td>\n",
       "      <td>0</td>\n",
       "      <td>...</td>\n",
       "      <td>0</td>\n",
       "      <td>0</td>\n",
       "      <td>0</td>\n",
       "      <td>0</td>\n",
       "      <td>0</td>\n",
       "      <td>0</td>\n",
       "      <td>0</td>\n",
       "      <td>0</td>\n",
       "      <td>0</td>\n",
       "      <td>0</td>\n",
       "    </tr>\n",
       "  </tbody>\n",
       "</table>\n",
       "<p>5 rows × 314750 columns</p>\n",
       "</div>"
      ],
      "text/plain": [
       "DD_COD_SKU_CONFIG 00301FA0IW7BMNAFAMZ 00301FA0QSN4YNAFAMZ 00301FA0WQZ6QNAFAMZ  \\\n",
       "2017-12-01                          0                   0                   0   \n",
       "2017-12-02                          0                   0                   0   \n",
       "2017-12-03                          0                   0                   0   \n",
       "2017-12-04                          0                   0                   0   \n",
       "2017-12-05                          0                   0                   0   \n",
       "\n",
       "DD_COD_SKU_CONFIG 00301FA1IM7MANAFAMZ 10259FA000PQYNAFAMZ 10259FA002UWQNAFAMZ  \\\n",
       "2017-12-01                          0                   0                   0   \n",
       "2017-12-02                          0                   0                   0   \n",
       "2017-12-03                          0                   0                   0   \n",
       "2017-12-04                          0                   0                   0   \n",
       "2017-12-05                          0                   0                   0   \n",
       "\n",
       "DD_COD_SKU_CONFIG 10259FA0074AYNAFAMZ 10259FA00FGGINAFAMZ 10259FA00LZEANAFAMZ  \\\n",
       "2017-12-01                          1                   1                   1   \n",
       "2017-12-02                          1                   1                   1   \n",
       "2017-12-03                          1                   1                   1   \n",
       "2017-12-04                          1                   1                   1   \n",
       "2017-12-05                          1                   1                   1   \n",
       "\n",
       "DD_COD_SKU_CONFIG 10259FA00M5CQNAFAMZ         ...         ZZ970FA12FBTMNAFAMZ  \\\n",
       "2017-12-01                          0         ...                           0   \n",
       "2017-12-02                          0         ...                           0   \n",
       "2017-12-03                          0         ...                           0   \n",
       "2017-12-04                          0         ...                           0   \n",
       "2017-12-05                          0         ...                           0   \n",
       "\n",
       "DD_COD_SKU_CONFIG ZZ970FA138WHENAFAMZ ZZ970FA153S1MNAFAMZ ZZ970FA15MMWINAFAMZ  \\\n",
       "2017-12-01                          0                   0                   0   \n",
       "2017-12-02                          0                   0                   0   \n",
       "2017-12-03                          0                   0                   0   \n",
       "2017-12-04                          0                   0                   0   \n",
       "2017-12-05                          0                   0                   0   \n",
       "\n",
       "DD_COD_SKU_CONFIG ZZ970FA17S89MNAFAMZ ZZ970FA1BKYYANAFAMZ ZZ970FA1E9URENAFAMZ  \\\n",
       "2017-12-01                          0                   0                   0   \n",
       "2017-12-02                          0                   0                   0   \n",
       "2017-12-03                          0                   0                   0   \n",
       "2017-12-04                          0                   0                   0   \n",
       "2017-12-05                          0                   0                   0   \n",
       "\n",
       "DD_COD_SKU_CONFIG ZZ970FA1GESO2NAFAMZ ZZ970FA1KKTWINAFAMZ ZZ970FA1NHN1UNAFAMZ  \n",
       "2017-12-01                          0                   0                   0  \n",
       "2017-12-02                          0                   0                   0  \n",
       "2017-12-03                          0                   0                   0  \n",
       "2017-12-04                          0                   0                   0  \n",
       "2017-12-05                          0                   0                   0  \n",
       "\n",
       "[5 rows x 314750 columns]"
      ]
     },
     "execution_count": 17,
     "metadata": {},
     "output_type": "execute_result"
    }
   ],
   "source": [
    "df_prodVisible.columns = df_prodVisible.iloc[0]\n",
    "\n",
    "df_prodVisible = df_prodVisible.reindex(df_prodVisible.index.drop('DD_COD_SKU_CONFIG'))\n",
    "\n",
    "df_prodVisible.head(5)"
   ]
  },
  {
   "cell_type": "code",
   "execution_count": 18,
   "metadata": {},
   "outputs": [],
   "source": [
    "def zero_runs(a):\n",
    "    # Create an array that is 1 where a is 0, and pad each end with an extra 0.\n",
    "    iszero = np.concatenate(([0], np.equal(a, 0).view(np.int8), [0]))\n",
    "    absdiff = np.abs(np.diff(iszero))\n",
    "    # Runs start and end where absdiff is 1.\n",
    "    ranges = np.where(absdiff == 1)[0].reshape(-1, 2)\n",
    "    return ranges"
   ]
  },
  {
   "cell_type": "code",
   "execution_count": 19,
   "metadata": {},
   "outputs": [],
   "source": [
    "def getOfflineData(offlineRaw,SKU_name):\n",
    "    dataFrame = pd.DataFrame()\n",
    "    for ind, column in enumerate(offlineRaw.columns):\n",
    "        runs = zero_runs(offlineRaw.iloc[:,ind])\n",
    "        tuples = zip(offlineRaw.iloc[runs[:,0],0].index, runs[:,1] - runs[:,0])\n",
    "        tempDf = {}\n",
    "        cols = ['OfflineDate','OfflineDays']\n",
    "        tuples = list(tuples)\n",
    "        tempDf = pd.DataFrame.from_records(tuples,columns = cols)\n",
    "        tempDf['SKU'] = column\n",
    "        dataFrame = dataFrame.append(tempDf)\n",
    "    return dataFrame\n",
    "        "
   ]
  },
  {
   "cell_type": "code",
   "execution_count": 20,
   "metadata": {},
   "outputs": [],
   "source": [
    "#formattedDf = getOfflineData(df_prodVisible,df_prodVisible.columns.values[0])\n",
    "#formattedDf.to_pickle('./OfflineFormattedData',compression='infer', protocol=4)\n",
    "formattedDf = pd.read_pickle('./OfflineFormattedData', compression='infer')\n",
    "#formattedDf.head()"
   ]
  },
  {
   "cell_type": "code",
   "execution_count": 21,
   "metadata": {},
   "outputs": [],
   "source": [
    "#Sample SKUs 00301FA0IW7BMNAFAMZ, 00301FA1IM7MANAFAMZ, 10259FA0074AYNAFAMZ\n",
    "#formattedDf['OfflineDate'] = pd.to_datetime(formattedDf['OfflineDate'])\n",
    "#df_initial.dtypes"
   ]
  },
  {
   "cell_type": "markdown",
   "metadata": {},
   "source": [
    "### Offline Product Similarity Match "
   ]
  },
  {
   "cell_type": "code",
   "execution_count": 22,
   "metadata": {},
   "outputs": [
    {
     "name": "stdout",
     "output_type": "stream",
     "text": [
      "[\"Women's Fashion Women's Accessories Jewellery Body Piercings\"]\n",
      "['Metal Body Piercing Set']\n",
      "['100 Degreez']\n",
      "2018-03-06\n",
      "1\n",
      "SKUs which have been sold during this period from this relevent category cluster  35\n"
     ]
    }
   ],
   "source": [
    "SKUid = '10259FA1DDLKCNAFAMZ'\n",
    "PeriodStartDate = '2018-03-04'\n",
    "categoryName = df_initial[df_initial.COD_SKU_CONFIG == SKUid]['CatConcat'].unique()\n",
    "print(categoryName)\n",
    "productame = df_initial[df_initial.COD_SKU_CONFIG == SKUid]['DSC_PRODUCT_NAME'].unique()\n",
    "print(productame)\n",
    "brandName = df_initial[df_initial.COD_SKU_CONFIG == SKUid]['DSC_PRODUCT_BRAND_NAME_EN'].unique()\n",
    "print(brandName)\n",
    "offlineStartDate = formattedDf[formattedDf.SKU == SKUid].iloc[3:4,0].values[0]\n",
    "print(offlineStartDate)\n",
    "\n",
    "offlineDays = formattedDf[formattedDf.SKU == SKUid].iloc[3:4,1].values[0]\n",
    "print(offlineDays)\n",
    "\n",
    "relevantSkuList = df_initial[(df_initial.CatConcat == categoryName[0]) & (df_initial.COD_SKU_CONFIG != SKUid)]['COD_SKU_CONFIG'].unique()\n",
    "print('SKUs which have been sold during this period from this relevent category cluster ',len(relevantSkuList))\n",
    "\n",
    "#print('No of records in this Category, whose demand data we have in our date range of 5 months:',len(df_initial[(df_initial.CatConcat == categoryName[0]) & (df_initial.COD_SKU_CONFIG != '00301FA0IW7BMNAFAMZ')].index))\n"
   ]
  },
  {
   "cell_type": "code",
   "execution_count": 23,
   "metadata": {},
   "outputs": [],
   "source": [
    "#df_prodVisible[np.intersect1d(df_prodVisible.columns, list(relevantSkuList))].head()\n",
    "#df_prodVisible[df_prodVisible.columns.intersection(list(relevantSkuList))].head()"
   ]
  },
  {
   "cell_type": "code",
   "execution_count": 24,
   "metadata": {},
   "outputs": [],
   "source": [
    "releventSKUdataFrame = df_prodVisible[(datetime.strptime(PeriodStartDate, \"%Y-%m-%d\").strftime(\"%Y-%m-%d\")) : (datetime.strptime(offlineStartDate, \"%Y-%m-%d\") + timedelta(days=int(offlineDays)-1)).strftime(\"%Y-%m-%d\")]\n",
    "\n",
    "releventSKUdataFrame = releventSKUdataFrame[releventSKUdataFrame.columns.intersection(list(relevantSkuList))].apply(pd.Series.value_counts)"
   ]
  },
  {
   "cell_type": "code",
   "execution_count": 25,
   "metadata": {},
   "outputs": [
    {
     "data": {
      "text/html": [
       "<div>\n",
       "<style scoped>\n",
       "    .dataframe tbody tr th:only-of-type {\n",
       "        vertical-align: middle;\n",
       "    }\n",
       "\n",
       "    .dataframe tbody tr th {\n",
       "        vertical-align: top;\n",
       "    }\n",
       "\n",
       "    .dataframe thead th {\n",
       "        text-align: right;\n",
       "    }\n",
       "</style>\n",
       "<table border=\"1\" class=\"dataframe\">\n",
       "  <thead>\n",
       "    <tr style=\"text-align: right;\">\n",
       "      <th>DD_COD_SKU_CONFIG</th>\n",
       "      <th>10259FA03W2Y4NAFAMZ</th>\n",
       "      <th>10259FA04HIJWNAFAMZ</th>\n",
       "      <th>10259FA05WYEKNAFAMZ</th>\n",
       "      <th>10259FA0JDCOCNAFAMZ</th>\n",
       "      <th>10259FA0RRKB0NAFAMZ</th>\n",
       "      <th>10259FA0VA0RWNAFAMZ</th>\n",
       "      <th>10259FA0XNR70NAFAMZ</th>\n",
       "      <th>10259FA0XPWCSNAFAMZ</th>\n",
       "      <th>10259FA1152M4NAFAMZ</th>\n",
       "      <th>10259FA15C8WCNAFAMZ</th>\n",
       "      <th>...</th>\n",
       "      <th>HE632FA121Y6QNAFAMZ</th>\n",
       "      <th>JM049FA1HLVQYNAFAMZ</th>\n",
       "      <th>LA958FA0B6HPGNAFAMZ</th>\n",
       "      <th>LA958FA0ZBQZSNAFAMZ</th>\n",
       "      <th>MA501FA05Q4YQNAFAMZ</th>\n",
       "      <th>MA501FA13XL20NAFAMZ</th>\n",
       "      <th>RH255FA0R1304NAFAMZ</th>\n",
       "      <th>TO118FA1C29XSNAFAMZ</th>\n",
       "      <th>ZA401FA0CZFLCNAFAMZ</th>\n",
       "      <th>ZA401FA0N9DSWNAFAMZ</th>\n",
       "    </tr>\n",
       "  </thead>\n",
       "  <tbody>\n",
       "    <tr>\n",
       "      <th>0.0</th>\n",
       "      <td>1</td>\n",
       "      <td>1</td>\n",
       "      <td>1</td>\n",
       "      <td>1</td>\n",
       "      <td>1</td>\n",
       "      <td>1</td>\n",
       "      <td>1</td>\n",
       "      <td>1</td>\n",
       "      <td>1</td>\n",
       "      <td>1</td>\n",
       "      <td>...</td>\n",
       "      <td>1</td>\n",
       "      <td>3.0</td>\n",
       "      <td>1</td>\n",
       "      <td>1</td>\n",
       "      <td>1</td>\n",
       "      <td>1</td>\n",
       "      <td>3.0</td>\n",
       "      <td>3.0</td>\n",
       "      <td>3.0</td>\n",
       "      <td>1</td>\n",
       "    </tr>\n",
       "    <tr>\n",
       "      <th>1.0</th>\n",
       "      <td>2</td>\n",
       "      <td>2</td>\n",
       "      <td>2</td>\n",
       "      <td>2</td>\n",
       "      <td>2</td>\n",
       "      <td>2</td>\n",
       "      <td>2</td>\n",
       "      <td>2</td>\n",
       "      <td>2</td>\n",
       "      <td>2</td>\n",
       "      <td>...</td>\n",
       "      <td>2</td>\n",
       "      <td>NaN</td>\n",
       "      <td>2</td>\n",
       "      <td>2</td>\n",
       "      <td>2</td>\n",
       "      <td>2</td>\n",
       "      <td>NaN</td>\n",
       "      <td>NaN</td>\n",
       "      <td>NaN</td>\n",
       "      <td>2</td>\n",
       "    </tr>\n",
       "  </tbody>\n",
       "</table>\n",
       "<p>2 rows × 35 columns</p>\n",
       "</div>"
      ],
      "text/plain": [
       "DD_COD_SKU_CONFIG  10259FA03W2Y4NAFAMZ  10259FA04HIJWNAFAMZ  \\\n",
       "0.0                                  1                    1   \n",
       "1.0                                  2                    2   \n",
       "\n",
       "DD_COD_SKU_CONFIG  10259FA05WYEKNAFAMZ  10259FA0JDCOCNAFAMZ  \\\n",
       "0.0                                  1                    1   \n",
       "1.0                                  2                    2   \n",
       "\n",
       "DD_COD_SKU_CONFIG  10259FA0RRKB0NAFAMZ  10259FA0VA0RWNAFAMZ  \\\n",
       "0.0                                  1                    1   \n",
       "1.0                                  2                    2   \n",
       "\n",
       "DD_COD_SKU_CONFIG  10259FA0XNR70NAFAMZ  10259FA0XPWCSNAFAMZ  \\\n",
       "0.0                                  1                    1   \n",
       "1.0                                  2                    2   \n",
       "\n",
       "DD_COD_SKU_CONFIG  10259FA1152M4NAFAMZ  10259FA15C8WCNAFAMZ  \\\n",
       "0.0                                  1                    1   \n",
       "1.0                                  2                    2   \n",
       "\n",
       "DD_COD_SKU_CONFIG         ...           HE632FA121Y6QNAFAMZ  \\\n",
       "0.0                       ...                             1   \n",
       "1.0                       ...                             2   \n",
       "\n",
       "DD_COD_SKU_CONFIG  JM049FA1HLVQYNAFAMZ  LA958FA0B6HPGNAFAMZ  \\\n",
       "0.0                                3.0                    1   \n",
       "1.0                                NaN                    2   \n",
       "\n",
       "DD_COD_SKU_CONFIG  LA958FA0ZBQZSNAFAMZ  MA501FA05Q4YQNAFAMZ  \\\n",
       "0.0                                  1                    1   \n",
       "1.0                                  2                    2   \n",
       "\n",
       "DD_COD_SKU_CONFIG  MA501FA13XL20NAFAMZ  RH255FA0R1304NAFAMZ  \\\n",
       "0.0                                  1                  3.0   \n",
       "1.0                                  2                  NaN   \n",
       "\n",
       "DD_COD_SKU_CONFIG  TO118FA1C29XSNAFAMZ  ZA401FA0CZFLCNAFAMZ  \\\n",
       "0.0                                3.0                  3.0   \n",
       "1.0                                NaN                  NaN   \n",
       "\n",
       "DD_COD_SKU_CONFIG  ZA401FA0N9DSWNAFAMZ  \n",
       "0.0                                  1  \n",
       "1.0                                  2  \n",
       "\n",
       "[2 rows x 35 columns]"
      ]
     },
     "execution_count": 25,
     "metadata": {},
     "output_type": "execute_result"
    }
   ],
   "source": [
    "releventSKUdataFrame"
   ]
  },
  {
   "cell_type": "code",
   "execution_count": 26,
   "metadata": {},
   "outputs": [],
   "source": [
    "findOnlineRelatedSKUs = releventSKUdataFrame"
   ]
  },
  {
   "cell_type": "code",
   "execution_count": 27,
   "metadata": {},
   "outputs": [],
   "source": [
    "findOnlineRelatedSKUs = findOnlineRelatedSKUs.T"
   ]
  },
  {
   "cell_type": "code",
   "execution_count": 28,
   "metadata": {},
   "outputs": [],
   "source": [
    "if findOnlineRelatedSKUs.shape[1] == 2:\n",
    "     findOnlineRelatedSKUs.columns = ['Off', 'On']\n",
    "else:\n",
    "     findOnlineRelatedSKUs.columns = ['On']"
   ]
  },
  {
   "cell_type": "code",
   "execution_count": 29,
   "metadata": {},
   "outputs": [
    {
     "data": {
      "text/plain": [
       "(35, 2)"
      ]
     },
     "execution_count": 29,
     "metadata": {},
     "output_type": "execute_result"
    }
   ],
   "source": [
    "findOnlineRelatedSKUs.shape"
   ]
  },
  {
   "cell_type": "code",
   "execution_count": 30,
   "metadata": {},
   "outputs": [
    {
     "data": {
      "text/plain": [
       "24"
      ]
     },
     "execution_count": 30,
     "metadata": {},
     "output_type": "execute_result"
    }
   ],
   "source": [
    "#Get SKUs from the smilar valid SKU list which were OnLine atleast\n",
    "similarSKU4DC = findOnlineRelatedSKUs[findOnlineRelatedSKUs[\"On\"] > 0].index\n",
    "len(similarSKU4DC)"
   ]
  },
  {
   "cell_type": "code",
   "execution_count": 31,
   "metadata": {},
   "outputs": [
    {
     "data": {
      "text/plain": [
       "(0, 19)"
      ]
     },
     "execution_count": 31,
     "metadata": {},
     "output_type": "execute_result"
    }
   ],
   "source": [
    "demandCurveDf = df_initial[df_initial.COD_SKU_CONFIG.isin(similarSKU4DC)]\n",
    "demandCurveDf = demandCurveDf[(demandCurveDf.date >= datetime.strptime(PeriodStartDate, \"%Y-%m-%d\")) \n",
    "             & (demandCurveDf.date <= datetime.strptime(offlineStartDate, \"%Y-%m-%d\") + timedelta(days=int(offlineDays)-1))]\n",
    "#demandCurveDf = demandCurveDf['date'].to_frame()\n",
    "demandCurveDf.shape"
   ]
  },
  {
   "cell_type": "code",
   "execution_count": 32,
   "metadata": {},
   "outputs": [],
   "source": [
    "if demandCurveDf.shape[0] > 0:\n",
    "    temp = pd.DataFrame(demandCurveDf.groupby(['date'])['Valid Total'].mean()).reset_index()\n",
    "    demandCurveDf = temp['date'].to_frame()\n",
    "    demandCurveDf['CummulativeQuantity'] = temp['Valid Total'].cumsum().round(1)\n",
    "    demandCurveDf['DemandPercent'] = (demandCurveDf['CummulativeQuantity']/demandCurveDf['CummulativeQuantity'].iloc[-1])*100"
   ]
  },
  {
   "cell_type": "code",
   "execution_count": 33,
   "metadata": {},
   "outputs": [
    {
     "data": {
      "text/html": [
       "<div>\n",
       "<style scoped>\n",
       "    .dataframe tbody tr th:only-of-type {\n",
       "        vertical-align: middle;\n",
       "    }\n",
       "\n",
       "    .dataframe tbody tr th {\n",
       "        vertical-align: top;\n",
       "    }\n",
       "\n",
       "    .dataframe thead th {\n",
       "        text-align: right;\n",
       "    }\n",
       "</style>\n",
       "<table border=\"1\" class=\"dataframe\">\n",
       "  <thead>\n",
       "    <tr style=\"text-align: right;\">\n",
       "      <th></th>\n",
       "      <th>COD_SKU_CONFIG</th>\n",
       "      <th>date</th>\n",
       "      <th>DSC_CATEGORY_NAME_LEVEL_1</th>\n",
       "      <th>DSC_CATEGORY_NAME_LEVEL_2</th>\n",
       "      <th>DSC_CATEGORY_NAME_LEVEL_3</th>\n",
       "      <th>DSC_CATEGORY_NAME_LEVEL_4</th>\n",
       "      <th>DSC_PRODUCT_NAME</th>\n",
       "      <th>DSC_PRODUCT_BRAND_NAME_EN</th>\n",
       "      <th>DSC_PRODUCT_SIZE</th>\n",
       "      <th>DSC_PRODUCT_COLOR</th>\n",
       "      <th>DSC_PRODUCT_WEIGHT</th>\n",
       "      <th>DSC_SHIPPING_METHOD</th>\n",
       "      <th>Android</th>\n",
       "      <th>Desktop</th>\n",
       "      <th>iOS</th>\n",
       "      <th>Mobile (Theme)</th>\n",
       "      <th>Amount</th>\n",
       "      <th>Valid Total</th>\n",
       "      <th>CatConcat</th>\n",
       "    </tr>\n",
       "  </thead>\n",
       "  <tbody>\n",
       "  </tbody>\n",
       "</table>\n",
       "</div>"
      ],
      "text/plain": [
       "Empty DataFrame\n",
       "Columns: [COD_SKU_CONFIG, date, DSC_CATEGORY_NAME_LEVEL_1, DSC_CATEGORY_NAME_LEVEL_2, DSC_CATEGORY_NAME_LEVEL_3, DSC_CATEGORY_NAME_LEVEL_4, DSC_PRODUCT_NAME, DSC_PRODUCT_BRAND_NAME_EN, DSC_PRODUCT_SIZE, DSC_PRODUCT_COLOR, DSC_PRODUCT_WEIGHT, DSC_SHIPPING_METHOD, Android, Desktop, iOS, Mobile (Theme), Amount, Valid Total, CatConcat]\n",
       "Index: []"
      ]
     },
     "execution_count": 33,
     "metadata": {},
     "output_type": "execute_result"
    }
   ],
   "source": [
    "demandCurveDf.tail(50)"
   ]
  },
  {
   "cell_type": "code",
   "execution_count": 34,
   "metadata": {},
   "outputs": [
    {
     "name": "stdout",
     "output_type": "stream",
     "text": [
      "           date  CummulativeQuantity  DemandPercent\n",
      "1296 2018-03-05                    1          100.0\n",
      "Recorded demand during Online period :  1\n"
     ]
    }
   ],
   "source": [
    "temp = df_initial[df_initial.COD_SKU_CONFIG == SKUid]\n",
    "temp = temp[(temp.date >= datetime.strptime(PeriodStartDate, \"%Y-%m-%d\")) \n",
    "                     & (temp.date <= datetime.strptime(offlineStartDate, \"%Y-%m-%d\") + timedelta(days=int(offlineDays)-1))]\n",
    "\n",
    "if temp['COD_SKU_CONFIG'].count() > 0:\n",
    "    onlineDemand = 1\n",
    "    demandCurveDf4Offline = temp['date'].to_frame()\n",
    "    demandCurveDf4Offline['CummulativeQuantity'] = temp[(temp.COD_SKU_CONFIG == SKUid)]['Valid Total'].cumsum()\n",
    "    demandCurveDf4Offline['DemandPercent'] = (demandCurveDf4Offline['CummulativeQuantity']/demandCurveDf4Offline['CummulativeQuantity'].iloc[-1])*100\n",
    "    print(demandCurveDf4Offline)\n",
    "    print(\"Recorded demand during Online period : \",temp['COD_SKU_CONFIG'].count())\n",
    "else:\n",
    "    onlineDemand = 0\n",
    "    print(\"No Demand Recorded during Online period\")"
   ]
  },
  {
   "cell_type": "code",
   "execution_count": null,
   "metadata": {},
   "outputs": [],
   "source": [
    "if onlineDemand > 0:\n",
    "    dateOfSoldOut = demandCurveDf4Offline[demandCurveDf4Offline.DemandPercent == 100]['date'].values[0]\n",
    "    DemandPercentWhenSoldOut = demandCurveDf[demandCurveDf.date >= dateOfSoldOut][0:1]['DemandPercent']/100\n",
    "    if DemandPercentWhenSoldOut.count() == 0:\n",
    "        print(\"Estiamted Lost Sales (Category SO) :\",DemandPercentWhenSoldOut.count())\n",
    "    else:\n",
    "        CummulativeQuantityWhenSoldOut = demandCurveDf4Offline[demandCurveDf4Offline.DemandPercent == 100]['CummulativeQuantity']\n",
    "        print(\"Cummulative Quantity When Sold Out:\",CummulativeQuantityWhenSoldOut.values[0])\n",
    "        print(\"Demand Percent of Category when the product soldout \",DemandPercentWhenSoldOut.values[0])\n",
    "        EstiamtedLostSales = CummulativeQuantityWhenSoldOut/DemandPercentWhenSoldOut.values[0]\n",
    "        print(\"Estiamted Lost Sales :\",(EstiamtedLostSales.values[0] - CummulativeQuantityWhenSoldOut).values[0])"
   ]
  },
  {
   "cell_type": "code",
   "execution_count": null,
   "metadata": {},
   "outputs": [],
   "source": [
    "plt.figure(figsize=(10,7))\n",
    "markers_on = [DemandPercentWhenSoldOut.index[0]]\n",
    "plt.plot(demandCurveDf.date, demandCurveDf.DemandPercent,'-bX',markevery=markers_on)\n",
    "\n",
    "for a,b in zip(demandCurveDf.date, demandCurveDf.DemandPercent): \n",
    "    if( b == DemandPercentWhenSoldOut.values[0] * 100):\n",
    "        plt.text(a, b, \"Category Demand % : \" + str(b) + \"  \\nDate : \" + str(a))\n",
    "        \n",
    "plt.ylabel('Percentage Demand', fontsize=12)\n",
    "plt.xlabel('Date', fontsize=12)"
   ]
  },
  {
   "cell_type": "code",
   "execution_count": 37,
   "metadata": {},
   "outputs": [],
   "source": [
    "def getEstimatedLostSale(SKUid,startDate,offlineStartDate,offlineDays):\n",
    "    \n",
    "    #print(\"---------------------------------------------------------------------------\")\n",
    "    #print(\"SKU : \",SKUid ,\" Start Date \",startDate, \" OfflineDate \", offlineStartDate , \" Offline for Days \", offlineDays)\n",
    "             \n",
    "    PeriodStartDate = startDate\n",
    "    \n",
    "    skuDemandCheckDf = df_initial[df_initial.COD_SKU_CONFIG == SKUid]\n",
    "\n",
    "    skuDemandCheckDf = skuDemandCheckDf[(skuDemandCheckDf.date >= datetime.strptime(PeriodStartDate, \"%Y-%m-%d\")) \n",
    "                     & (skuDemandCheckDf.date <= datetime.strptime(offlineStartDate, \"%Y-%m-%d\") + timedelta(days=int(offlineDays)-1))]\n",
    "\n",
    "    if PeriodStartDate == offlineStartDate:\n",
    "        return \"Product Offline : \" + str(datetime.strptime(startDate, \"%Y-%m-%d\")) + \" - \" + str(datetime.strptime(offlineStartDate, \"%Y-%m-%d\") + timedelta(days=int(offlineDays)-1))\n",
    " \n",
    "    elif skuDemandCheckDf['COD_SKU_CONFIG'].count() == 0:\n",
    "        return \"No Demand : \" + str(datetime.strptime(startDate, \"%Y-%m-%d\")) + \" - \" + str(datetime.strptime(offlineStartDate, \"%Y-%m-%d\") + timedelta(days=int(offlineDays)-1))\n",
    "    else:\n",
    "        \n",
    "        categoryName = df_initial[df_initial.COD_SKU_CONFIG == SKUid]['CatConcat'].unique()\n",
    "        #print(\"Category Concatented Name : \",categoryName)\n",
    "        productame = df_initial[df_initial.COD_SKU_CONFIG == SKUid]['DSC_PRODUCT_NAME'].unique()\n",
    "       \n",
    "        brandName = df_initial[df_initial.COD_SKU_CONFIG == SKUid]['DSC_PRODUCT_BRAND_NAME_EN'].unique()\n",
    "        #print(\"Brand Name : \",brandName)\n",
    "        \n",
    "        relevantSkuList = df_initial[(df_initial.CatConcat == categoryName[0]) & (df_initial.COD_SKU_CONFIG != SKUid)]['COD_SKU_CONFIG'].unique()\n",
    "        #print('Total Unique SKUs from this relevent category',len(relevantSkuList))\n",
    "        \n",
    "        releventSKUdataFrame = df_prodVisible[(datetime.strptime(PeriodStartDate, \"%Y-%m-%d\").strftime(\"%Y-%m-%d\")) : (datetime.strptime(offlineStartDate, \"%Y-%m-%d\") + timedelta(days=int(offlineDays)-1)).strftime(\"%Y-%m-%d\")]\n",
    "\n",
    "        releventSKUdataFrame = releventSKUdataFrame[releventSKUdataFrame.columns.intersection(list(relevantSkuList))].apply(pd.Series.value_counts)\n",
    "        \n",
    "        findOnlineRelatedSKUs = releventSKUdataFrame\n",
    "        \n",
    "        findOnlineRelatedSKUs = findOnlineRelatedSKUs.T\n",
    "        \n",
    "        if findOnlineRelatedSKUs.shape[1] == 2:\n",
    "             findOnlineRelatedSKUs.columns = ['Off', 'On']\n",
    "        else:\n",
    "             findOnlineRelatedSKUs.columns = ['On']\n",
    "        #Get SKUs from the smilar valid SKU list which were OnLine atleast\n",
    "        similarSKU4DC = findOnlineRelatedSKUs[findOnlineRelatedSKUs[\"On\"] > 0].index\n",
    "        #print(\"Potential SKUs in the category to match with (Online Ones) : \", len(similarSKU4DC))\n",
    "        \n",
    "        \n",
    "        demandCurveDf = df_initial[df_initial.COD_SKU_CONFIG.isin(similarSKU4DC)]\n",
    "        demandCurveDf = demandCurveDf[(demandCurveDf.date >= datetime.strptime(PeriodStartDate, \"%Y-%m-%d\")) \n",
    "             & (demandCurveDf.date <= datetime.strptime(offlineStartDate, \"%Y-%m-%d\") + timedelta(days=int(offlineDays)-1))]\n",
    "        \n",
    "        ##When No data found for the relevent Category of the SKU of search\n",
    "        if demandCurveDf.shape[0] == 0:\n",
    "            return '0'\n",
    "        \n",
    "        temp = pd.DataFrame(demandCurveDf.groupby(['date'])['Valid Total'].mean()).reset_index()\n",
    "        demandCurveDf = temp['date'].to_frame()\n",
    "        demandCurveDf['CummulativeQuantity'] = temp['Valid Total'].cumsum().round(1)\n",
    "        demandCurveDf['DemandPercent'] = (demandCurveDf['CummulativeQuantity']/demandCurveDf['CummulativeQuantity'].iloc[-1])*100\n",
    "        demandCurveDf\n",
    "        \n",
    "        #####Demand Curve for Offlined SKU\n",
    "        demandCurveDf4Offline = skuDemandCheckDf['date'].to_frame()\n",
    "        demandCurveDf4Offline['CummulativeQuantity'] = skuDemandCheckDf[(skuDemandCheckDf.COD_SKU_CONFIG == SKUid)]['Valid Total'].cumsum()\n",
    "        demandCurveDf4Offline['DemandPercent'] = (demandCurveDf4Offline['CummulativeQuantity']/demandCurveDf4Offline['CummulativeQuantity'].iloc[-1])*100\n",
    "        demandCurveDf4Offline\n",
    "        \n",
    "        dateOfSoldOut = demandCurveDf4Offline[demandCurveDf4Offline.DemandPercent == 100]['date'].values[0]\n",
    "        demandCurveDf4Offline\n",
    "        DemandPercentWhenSoldOut = demandCurveDf[demandCurveDf.date >= dateOfSoldOut][0:1]['DemandPercent']/100\n",
    "        \n",
    "        ## for case when the Product Category last sold was lesser then the product SKU itself , so we can assume that \n",
    "        ## there is no LOST sale , since SKU was sold after the category Overall was already been soldout .\n",
    "        ## example SKU and dates are 10259FA0924GYNAFAMZ and 4:5 Offline Record \n",
    "        \n",
    "        if DemandPercentWhenSoldOut.count() == 0:\n",
    "            return '0';\n",
    "        \n",
    "        CummulativeQuantityWhenSoldOut = demandCurveDf4Offline[demandCurveDf4Offline.DemandPercent == 100]['CummulativeQuantity']\n",
    "        \n",
    "        EstiamtedLostSales = CummulativeQuantityWhenSoldOut/DemandPercentWhenSoldOut.values[0]\n",
    "        \n",
    "#         print(\" Cummulative Quantity :\",CummulativeQuantityWhenSoldOut.values[0], \" Demand Percent of Category : \",DemandPercentWhenSoldOut.values[0],\n",
    "#               \" Estiamted Lost Sales :\", (EstiamtedLostSales.values[0] - CummulativeQuantityWhenSoldOut).values[0],\n",
    "#               \" Product Name : \",productame)\n",
    "       \n",
    "        return (EstiamtedLostSales.values[0] - CummulativeQuantityWhenSoldOut).values[0]\n"
   ]
  },
  {
   "cell_type": "code",
   "execution_count": 36,
   "metadata": {},
   "outputs": [
    {
     "name": "stdout",
     "output_type": "stream",
     "text": [
      "---------------------------------------------------------------------------\n",
      "SKU :  10259FA1DDLKCNAFAMZ  Start Date  2018-03-04  OfflineDate  2018-03-06  Offline for Days  1\n"
     ]
    },
    {
     "data": {
      "text/plain": [
       "'0'"
      ]
     },
     "execution_count": 36,
     "metadata": {},
     "output_type": "execute_result"
    }
   ],
   "source": [
    "getEstimatedLostSale(SKUid,PeriodStartDate,offlineStartDate,offlineDays)"
   ]
  },
  {
   "cell_type": "code",
   "execution_count": 47,
   "metadata": {},
   "outputs": [
    {
     "name": "stdout",
     "output_type": "stream",
     "text": [
      "Local current time : 1526534967.5409539\n",
      "total time taken : 215.55435943603516\n"
     ]
    }
   ],
   "source": [
    "startDate = None\n",
    "previousSKU = None\n",
    "currentSKU = None\n",
    "estLostSale = []\n",
    "endDate = None \n",
    "baseStartDate = \"2017-12-01\"\n",
    "import time;\n",
    "\n",
    "localtime = time.time()\n",
    "print(\"Local current time :\", localtime)\n",
    "for i, row in formattedDf[:500].iterrows():\n",
    "    currentSKU = row['SKU']\n",
    "    if previousSKU == None:\n",
    "        previousSKU = currentSKU\n",
    "    elif previousSKU != currentSKU:\n",
    "        startDate = None\n",
    "        previousSKU = currentSKU\n",
    "        #print(\"SKU Changed .. Updating SKU\")\n",
    "    \n",
    "    if startDate == None:\n",
    "        startDate = datetime.strptime(baseStartDate, \"%Y-%m-%d\").strftime(\"%Y-%m-%d\")\n",
    "        #print(\"Start : \",startDate)\n",
    "        endDate = datetime.strptime(row['OfflineDate'], \"%Y-%m-%d\") + timedelta(days=int(row['OfflineDays'])-1)\n",
    "        #print(\"End : \", endDate)\n",
    "    else:\n",
    "        startDate = endDate + timedelta(days=int(1))\n",
    "        #print(\"Start : \",startDate)\n",
    "        delta = startDate - (datetime.strptime(row['OfflineDate'], \"%Y-%m-%d\") + timedelta(days=int(row['OfflineDays'])-1))\n",
    "        delta = delta.days * -1\n",
    "        #print(\"Delta : \", delta)\n",
    "        endDate = (datetime.strptime(startDate.strftime(\"%Y-%m-%d\"), \"%Y-%m-%d\") + timedelta(days=int(delta)))\n",
    "        #endDate = endDate.strftime(\"%Y-%m-%d\")\n",
    "        startDate = startDate.strftime(\"%Y-%m-%d\")\n",
    "        #print(\"End : \", endDate)\n",
    "    estLostSale.append(getEstimatedLostSale(row['SKU'],startDate,row['OfflineDate'],row['OfflineDays']))\n",
    "\n",
    "\n",
    "localtime2 = time.time()\n",
    "print(\"total time taken :\", localtime2-localtime)"
   ]
  },
  {
   "cell_type": "code",
   "execution_count": null,
   "metadata": {},
   "outputs": [],
   "source": [
    "facts['pop2050'] = formattedDf[:500].apply(final_pop,axis=1)"
   ]
  },
  {
   "cell_type": "code",
   "execution_count": 47,
   "metadata": {},
   "outputs": [
    {
     "data": {
      "text/html": [
       "<div>\n",
       "<style scoped>\n",
       "    .dataframe tbody tr th:only-of-type {\n",
       "        vertical-align: middle;\n",
       "    }\n",
       "\n",
       "    .dataframe tbody tr th {\n",
       "        vertical-align: top;\n",
       "    }\n",
       "\n",
       "    .dataframe thead th {\n",
       "        text-align: right;\n",
       "    }\n",
       "</style>\n",
       "<table border=\"1\" class=\"dataframe\">\n",
       "  <thead>\n",
       "    <tr style=\"text-align: right;\">\n",
       "      <th></th>\n",
       "      <th>OfflineDate</th>\n",
       "      <th>OfflineDays</th>\n",
       "      <th>SKU</th>\n",
       "    </tr>\n",
       "  </thead>\n",
       "  <tbody>\n",
       "    <tr>\n",
       "      <th>0</th>\n",
       "      <td>2018-02-15</td>\n",
       "      <td>1</td>\n",
       "      <td>10259FA1DDLKCNAFAMZ</td>\n",
       "    </tr>\n",
       "    <tr>\n",
       "      <th>1</th>\n",
       "      <td>2018-03-01</td>\n",
       "      <td>1</td>\n",
       "      <td>10259FA1DDLKCNAFAMZ</td>\n",
       "    </tr>\n",
       "    <tr>\n",
       "      <th>2</th>\n",
       "      <td>2018-03-03</td>\n",
       "      <td>1</td>\n",
       "      <td>10259FA1DDLKCNAFAMZ</td>\n",
       "    </tr>\n",
       "    <tr>\n",
       "      <th>3</th>\n",
       "      <td>2018-03-06</td>\n",
       "      <td>1</td>\n",
       "      <td>10259FA1DDLKCNAFAMZ</td>\n",
       "    </tr>\n",
       "    <tr>\n",
       "      <th>4</th>\n",
       "      <td>2018-03-09</td>\n",
       "      <td>4</td>\n",
       "      <td>10259FA1DDLKCNAFAMZ</td>\n",
       "    </tr>\n",
       "    <tr>\n",
       "      <th>5</th>\n",
       "      <td>2018-03-16</td>\n",
       "      <td>1</td>\n",
       "      <td>10259FA1DDLKCNAFAMZ</td>\n",
       "    </tr>\n",
       "    <tr>\n",
       "      <th>6</th>\n",
       "      <td>2018-04-05</td>\n",
       "      <td>1</td>\n",
       "      <td>10259FA1DDLKCNAFAMZ</td>\n",
       "    </tr>\n",
       "    <tr>\n",
       "      <th>7</th>\n",
       "      <td>2018-04-12</td>\n",
       "      <td>1</td>\n",
       "      <td>10259FA1DDLKCNAFAMZ</td>\n",
       "    </tr>\n",
       "    <tr>\n",
       "      <th>8</th>\n",
       "      <td>2018-04-17</td>\n",
       "      <td>1</td>\n",
       "      <td>10259FA1DDLKCNAFAMZ</td>\n",
       "    </tr>\n",
       "    <tr>\n",
       "      <th>9</th>\n",
       "      <td>2018-04-19</td>\n",
       "      <td>1</td>\n",
       "      <td>10259FA1DDLKCNAFAMZ</td>\n",
       "    </tr>\n",
       "  </tbody>\n",
       "</table>\n",
       "</div>"
      ],
      "text/plain": [
       "  OfflineDate  OfflineDays                  SKU\n",
       "0  2018-02-15            1  10259FA1DDLKCNAFAMZ\n",
       "1  2018-03-01            1  10259FA1DDLKCNAFAMZ\n",
       "2  2018-03-03            1  10259FA1DDLKCNAFAMZ\n",
       "3  2018-03-06            1  10259FA1DDLKCNAFAMZ\n",
       "4  2018-03-09            4  10259FA1DDLKCNAFAMZ\n",
       "5  2018-03-16            1  10259FA1DDLKCNAFAMZ\n",
       "6  2018-04-05            1  10259FA1DDLKCNAFAMZ\n",
       "7  2018-04-12            1  10259FA1DDLKCNAFAMZ\n",
       "8  2018-04-17            1  10259FA1DDLKCNAFAMZ\n",
       "9  2018-04-19            1  10259FA1DDLKCNAFAMZ"
      ]
     },
     "execution_count": 47,
     "metadata": {},
     "output_type": "execute_result"
    }
   ],
   "source": [
    "formattedDf[formattedDf.SKU == '10259FA1DDLKCNAFAMZ']"
   ]
  },
  {
   "cell_type": "code",
   "execution_count": 95,
   "metadata": {},
   "outputs": [],
   "source": [
    "#pd.DataFrame(estLostSale).head()\n",
    "pd.DataFrame(estLostSale).to_pickle('./lostSaleEstimates',compression='infer', protocol=4)"
   ]
  },
  {
   "cell_type": "code",
   "execution_count": null,
   "metadata": {},
   "outputs": [],
   "source": [
    "temp = pd.concat([formattedDf[:2000].reset_index(),pd.DataFrame(estLostSale).reset_index()], axis=1) \n",
    "temp.columns = ['index', 'OfflineDate', 'OfflineDays', 'SKU', 'index', 'EstLostSales']\n",
    "temp[['EstLostSales','OfflineDate', 'OfflineDays', 'SKU', ]]"
   ]
  },
  {
   "cell_type": "code",
   "execution_count": 96,
   "metadata": {},
   "outputs": [
    {
     "data": {
      "text/plain": [
       "(73270, 1)"
      ]
     },
     "execution_count": 96,
     "metadata": {},
     "output_type": "execute_result"
    }
   ],
   "source": [
    "pd.DataFrame(estLostSale).shape"
   ]
  },
  {
   "cell_type": "code",
   "execution_count": null,
   "metadata": {},
   "outputs": [],
   "source": []
  },
  {
   "cell_type": "code",
   "execution_count": null,
   "metadata": {},
   "outputs": [],
   "source": []
  },
  {
   "cell_type": "code",
   "execution_count": null,
   "metadata": {},
   "outputs": [],
   "source": []
  },
  {
   "cell_type": "code",
   "execution_count": null,
   "metadata": {},
   "outputs": [],
   "source": []
  },
  {
   "cell_type": "code",
   "execution_count": null,
   "metadata": {},
   "outputs": [],
   "source": []
  },
  {
   "cell_type": "code",
   "execution_count": null,
   "metadata": {},
   "outputs": [],
   "source": []
  },
  {
   "cell_type": "code",
   "execution_count": null,
   "metadata": {},
   "outputs": [],
   "source": []
  }
 ],
 "metadata": {
  "kernelspec": {
   "display_name": "Python 3",
   "language": "python",
   "name": "python3"
  },
  "language_info": {
   "codemirror_mode": {
    "name": "ipython",
    "version": 3
   },
   "file_extension": ".py",
   "mimetype": "text/x-python",
   "name": "python",
   "nbconvert_exporter": "python",
   "pygments_lexer": "ipython3",
   "version": "3.6.4"
  }
 },
 "nbformat": 4,
 "nbformat_minor": 2
}
