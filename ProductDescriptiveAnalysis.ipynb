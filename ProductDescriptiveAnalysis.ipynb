{
 "cells": [
  {
   "cell_type": "code",
   "execution_count": 1,
   "metadata": {},
   "outputs": [],
   "source": [
    "import pymysql.cursors\n",
    "import pandas as pd\n",
    "from datetime import datetime, timedelta\n",
    "import calendar\n",
    "import numpy as np\n",
    "import matplotlib.pyplot as plt\n",
    "import seaborn as sns\n",
    "%matplotlib inline\n"
   ]
  },
  {
   "cell_type": "code",
   "execution_count": 2,
   "metadata": {},
   "outputs": [],
   "source": [
    "#import pyodbc\n",
    "#conn = pyodbc.connect(\"DRIVER={{ODBC Driver 17 for SQL Server}};SERVER={0}; database={1};UID={2};PWD={3}\".format('10.20.2.110,1433','AIG_DARAZ_PK_DW','daraz-tools','JfF7ziSCNk5jPxd'))\n",
    "#cursor = conn.cursor()\n",
    "\n",
    "#query = open('SqlForDailyDemandData.sql', 'r')\n",
    "#dataFrame_initial = pd.read_sql_query(query.read(), conn)\n",
    "#dataFrame_initial.shape"
   ]
  },
  {
   "cell_type": "code",
   "execution_count": 3,
   "metadata": {},
   "outputs": [],
   "source": [
    "#dataFrame_initial.to_pickle('./dataFile',compression='infer', protocol=4)"
   ]
  },
  {
   "cell_type": "code",
   "execution_count": 4,
   "metadata": {},
   "outputs": [],
   "source": [
    "df_initial = pd.read_pickle('./dataFile', compression='infer')"
   ]
  },
  {
   "cell_type": "code",
   "execution_count": 5,
   "metadata": {},
   "outputs": [
    {
     "data": {
      "text/plain": [
       "COD_SKU_CONFIG                object\n",
       "date                          object\n",
       "DSC_CATEGORY_NAME_LEVEL_1     object\n",
       "DSC_CATEGORY_NAME_LEVEL_2     object\n",
       "DSC_CATEGORY_NAME_LEVEL_3     object\n",
       "DSC_CATEGORY_NAME_LEVEL_4     object\n",
       "DSC_PRODUCT_NAME              object\n",
       "DSC_PRODUCT_BRAND_NAME_EN     object\n",
       "DSC_PRODUCT_SIZE              object\n",
       "DSC_PRODUCT_COLOR             object\n",
       "DSC_PRODUCT_WEIGHT            object\n",
       "DSC_SHIPPING_METHOD           object\n",
       "Android                        int64\n",
       "Desktop                        int64\n",
       "iOS                            int64\n",
       "Mobile (Theme)                 int64\n",
       "Amount                       float64\n",
       "Valid Total                    int64\n",
       "dtype: object"
      ]
     },
     "execution_count": 5,
     "metadata": {},
     "output_type": "execute_result"
    }
   ],
   "source": [
    "df_initial.dtypes"
   ]
  },
  {
   "cell_type": "code",
   "execution_count": 6,
   "metadata": {},
   "outputs": [],
   "source": [
    "#query = open('ProductVisibility.sql', 'r')\n",
    "#df_prodVisible = pd.read_sql_query(query.read(), conn)\n",
    "#df_prodVisible.shape"
   ]
  },
  {
   "cell_type": "code",
   "execution_count": 7,
   "metadata": {},
   "outputs": [],
   "source": [
    "#df_prodVisible.to_pickle('./productVisibilityDataFile',compression='infer', protocol=4)\n",
    "df_prodVisible = pd.read_pickle('./productVisibilityDataFile', compression='infer')\n"
   ]
  },
  {
   "cell_type": "code",
   "execution_count": 8,
   "metadata": {},
   "outputs": [
    {
     "data": {
      "text/html": [
       "<div>\n",
       "<style scoped>\n",
       "    .dataframe tbody tr th:only-of-type {\n",
       "        vertical-align: middle;\n",
       "    }\n",
       "\n",
       "    .dataframe tbody tr th {\n",
       "        vertical-align: top;\n",
       "    }\n",
       "\n",
       "    .dataframe thead th {\n",
       "        text-align: right;\n",
       "    }\n",
       "</style>\n",
       "<table border=\"1\" class=\"dataframe\">\n",
       "  <thead>\n",
       "    <tr style=\"text-align: right;\">\n",
       "      <th></th>\n",
       "      <th>COD_SKU_CONFIG</th>\n",
       "      <th>date</th>\n",
       "      <th>DSC_CATEGORY_NAME_LEVEL_1</th>\n",
       "      <th>DSC_CATEGORY_NAME_LEVEL_2</th>\n",
       "      <th>DSC_CATEGORY_NAME_LEVEL_3</th>\n",
       "      <th>DSC_CATEGORY_NAME_LEVEL_4</th>\n",
       "      <th>DSC_PRODUCT_NAME</th>\n",
       "      <th>DSC_PRODUCT_BRAND_NAME_EN</th>\n",
       "      <th>DSC_PRODUCT_SIZE</th>\n",
       "      <th>DSC_PRODUCT_COLOR</th>\n",
       "      <th>DSC_PRODUCT_WEIGHT</th>\n",
       "      <th>DSC_SHIPPING_METHOD</th>\n",
       "      <th>Android</th>\n",
       "      <th>Desktop</th>\n",
       "      <th>iOS</th>\n",
       "      <th>Mobile (Theme)</th>\n",
       "      <th>Amount</th>\n",
       "      <th>Valid Total</th>\n",
       "    </tr>\n",
       "  </thead>\n",
       "  <tbody>\n",
       "    <tr>\n",
       "      <th>1066686</th>\n",
       "      <td>RO711EL1LP57QNAFAMZ</td>\n",
       "      <td>2017-12-01</td>\n",
       "      <td>Phones &amp; Tablets</td>\n",
       "      <td>Phone &amp; Tablet Accessories</td>\n",
       "      <td>Power Banks</td>\n",
       "      <td>7100 - 10000+ mAh Power Bank</td>\n",
       "      <td>Solo 3 Powerbank With Light- 6000mAh  - White</td>\n",
       "      <td>Romoss</td>\n",
       "      <td></td>\n",
       "      <td>White</td>\n",
       "      <td>0.5</td>\n",
       "      <td>UniversalShippingMatrix</td>\n",
       "      <td>1</td>\n",
       "      <td>0</td>\n",
       "      <td>0</td>\n",
       "      <td>0</td>\n",
       "      <td>968.0</td>\n",
       "      <td>1</td>\n",
       "    </tr>\n",
       "    <tr>\n",
       "      <th>548709</th>\n",
       "      <td>HA779HL0DDK8GNAFAMZ</td>\n",
       "      <td>2017-12-01</td>\n",
       "      <td>Appliances</td>\n",
       "      <td>Large Appliances</td>\n",
       "      <td>Cooling</td>\n",
       "      <td>Cooling</td>\n",
       "      <td>HSU-18LK10/L011 - Split Ac - 1.5 Ton - White</td>\n",
       "      <td>Haier - Official</td>\n",
       "      <td></td>\n",
       "      <td>White</td>\n",
       "      <td>60</td>\n",
       "      <td>UniversalShippingMatrix</td>\n",
       "      <td>1</td>\n",
       "      <td>0</td>\n",
       "      <td>0</td>\n",
       "      <td>0</td>\n",
       "      <td>39578.0</td>\n",
       "      <td>1</td>\n",
       "    </tr>\n",
       "    <tr>\n",
       "      <th>1276971</th>\n",
       "      <td>TH134EL0L0D7YNAFAMZ</td>\n",
       "      <td>2017-12-01</td>\n",
       "      <td>Phones &amp; Tablets</td>\n",
       "      <td>Phone &amp; Tablet Accessories</td>\n",
       "      <td>Cases &amp; Covers</td>\n",
       "      <td>Iphone &amp; Ipad</td>\n",
       "      <td>Iphone X Premium Jelly Case - Transparent</td>\n",
       "      <td>Daraz Accessories</td>\n",
       "      <td></td>\n",
       "      <td>Neutral</td>\n",
       "      <td>0.2</td>\n",
       "      <td>UniversalShippingMatrix</td>\n",
       "      <td>0</td>\n",
       "      <td>0</td>\n",
       "      <td>1</td>\n",
       "      <td>0</td>\n",
       "      <td>149.0</td>\n",
       "      <td>1</td>\n",
       "    </tr>\n",
       "    <tr>\n",
       "      <th>398560</th>\n",
       "      <td>EA835EL0WDZIMNAFAMZ</td>\n",
       "      <td>2017-12-01</td>\n",
       "      <td>Phones &amp; Tablets</td>\n",
       "      <td>Phone &amp; Tablet Accessories</td>\n",
       "      <td>Other Accessories</td>\n",
       "      <td>Others</td>\n",
       "      <td>Universal Mobile Phone GPS Car Holder 360 Degr...</td>\n",
       "      <td>Earldom</td>\n",
       "      <td></td>\n",
       "      <td>Yellow &amp; Black</td>\n",
       "      <td>0.2</td>\n",
       "      <td>UniversalShippingMatrix</td>\n",
       "      <td>1</td>\n",
       "      <td>0</td>\n",
       "      <td>0</td>\n",
       "      <td>0</td>\n",
       "      <td>750.0</td>\n",
       "      <td>1</td>\n",
       "    </tr>\n",
       "    <tr>\n",
       "      <th>271913</th>\n",
       "      <td>CM114EL0TWC9SNAFAMZ</td>\n",
       "      <td>2017-12-01</td>\n",
       "      <td>Phones &amp; Tablets</td>\n",
       "      <td>Land Line</td>\n",
       "      <td>Corded</td>\n",
       "      <td>N/A</td>\n",
       "      <td>LCD Touch Panel Telephone With 8 Digit Calcula...</td>\n",
       "      <td>CM</td>\n",
       "      <td></td>\n",
       "      <td>N/A</td>\n",
       "      <td>0.5</td>\n",
       "      <td>UniversalShippingMatrix</td>\n",
       "      <td>1</td>\n",
       "      <td>1</td>\n",
       "      <td>0</td>\n",
       "      <td>0</td>\n",
       "      <td>1099.0</td>\n",
       "      <td>2</td>\n",
       "    </tr>\n",
       "  </tbody>\n",
       "</table>\n",
       "</div>"
      ],
      "text/plain": [
       "              COD_SKU_CONFIG       date DSC_CATEGORY_NAME_LEVEL_1  \\\n",
       "1066686  RO711EL1LP57QNAFAMZ 2017-12-01          Phones & Tablets   \n",
       "548709   HA779HL0DDK8GNAFAMZ 2017-12-01                Appliances   \n",
       "1276971  TH134EL0L0D7YNAFAMZ 2017-12-01          Phones & Tablets   \n",
       "398560   EA835EL0WDZIMNAFAMZ 2017-12-01          Phones & Tablets   \n",
       "271913   CM114EL0TWC9SNAFAMZ 2017-12-01          Phones & Tablets   \n",
       "\n",
       "          DSC_CATEGORY_NAME_LEVEL_2 DSC_CATEGORY_NAME_LEVEL_3  \\\n",
       "1066686  Phone & Tablet Accessories               Power Banks   \n",
       "548709             Large Appliances                   Cooling   \n",
       "1276971  Phone & Tablet Accessories            Cases & Covers   \n",
       "398560   Phone & Tablet Accessories         Other Accessories   \n",
       "271913                    Land Line                    Corded   \n",
       "\n",
       "            DSC_CATEGORY_NAME_LEVEL_4  \\\n",
       "1066686  7100 - 10000+ mAh Power Bank   \n",
       "548709                        Cooling   \n",
       "1276971                 Iphone & Ipad   \n",
       "398560                         Others   \n",
       "271913                            N/A   \n",
       "\n",
       "                                          DSC_PRODUCT_NAME  \\\n",
       "1066686      Solo 3 Powerbank With Light- 6000mAh  - White   \n",
       "548709        HSU-18LK10/L011 - Split Ac - 1.5 Ton - White   \n",
       "1276971          Iphone X Premium Jelly Case - Transparent   \n",
       "398560   Universal Mobile Phone GPS Car Holder 360 Degr...   \n",
       "271913   LCD Touch Panel Telephone With 8 Digit Calcula...   \n",
       "\n",
       "        DSC_PRODUCT_BRAND_NAME_EN DSC_PRODUCT_SIZE DSC_PRODUCT_COLOR  \\\n",
       "1066686                    Romoss                              White   \n",
       "548709           Haier - Official                              White   \n",
       "1276971         Daraz Accessories                            Neutral   \n",
       "398560                    Earldom                     Yellow & Black   \n",
       "271913                         CM                                N/A   \n",
       "\n",
       "        DSC_PRODUCT_WEIGHT      DSC_SHIPPING_METHOD  Android  Desktop  iOS  \\\n",
       "1066686                0.5  UniversalShippingMatrix        1        0    0   \n",
       "548709                  60  UniversalShippingMatrix        1        0    0   \n",
       "1276971                0.2  UniversalShippingMatrix        0        0    1   \n",
       "398560                 0.2  UniversalShippingMatrix        1        0    0   \n",
       "271913                 0.5  UniversalShippingMatrix        1        1    0   \n",
       "\n",
       "         Mobile (Theme)   Amount  Valid Total  \n",
       "1066686               0    968.0            1  \n",
       "548709                0  39578.0            1  \n",
       "1276971               0    149.0            1  \n",
       "398560                0    750.0            1  \n",
       "271913                0   1099.0            2  "
      ]
     },
     "execution_count": 8,
     "metadata": {},
     "output_type": "execute_result"
    }
   ],
   "source": [
    "df_initial['date'] = pd.to_datetime(df_initial['date'])\n",
    "df_initial.sort_values(by='date').head()"
   ]
  },
  {
   "cell_type": "code",
   "execution_count": 9,
   "metadata": {},
   "outputs": [],
   "source": [
    "#df_initial['DSC_PRODUCT_WEIGHT'].unique()"
   ]
  },
  {
   "cell_type": "code",
   "execution_count": 10,
   "metadata": {},
   "outputs": [],
   "source": [
    "import re\n",
    "df_initial['DSC_PRODUCT_WEIGHT'] = df_initial['DSC_PRODUCT_WEIGHT'].apply(lambda x : re.sub(r'#', r'0', str(x)))\n",
    "df_initial['DSC_PRODUCT_WEIGHT'] = df_initial['DSC_PRODUCT_WEIGHT'].apply(lambda x : re.sub(r'[a-zA-Z]', '', str(x)))\n",
    "df_initial['DSC_PRODUCT_WEIGHT'] = df_initial['DSC_PRODUCT_WEIGHT'].apply(lambda x : re.sub(r'([.])\\1+', r'\\1', str(x)))\n",
    "df_initial['DSC_PRODUCT_WEIGHT'] = df_initial['DSC_PRODUCT_WEIGHT'].apply(lambda x : re.sub(r'/', r'', str(x)))\n",
    "df_initial['DSC_PRODUCT_WEIGHT'] = df_initial['DSC_PRODUCT_WEIGHT'].apply(lambda x : re.sub(r'[!]', '0', str(x)))\n",
    "df_initial['DSC_PRODUCT_WEIGHT'] = pd.to_numeric(df_initial['DSC_PRODUCT_WEIGHT'])\n"
   ]
  },
  {
   "cell_type": "code",
   "execution_count": 11,
   "metadata": {},
   "outputs": [
    {
     "data": {
      "text/html": [
       "<div>\n",
       "<style scoped>\n",
       "    .dataframe tbody tr th:only-of-type {\n",
       "        vertical-align: middle;\n",
       "    }\n",
       "\n",
       "    .dataframe tbody tr th {\n",
       "        vertical-align: top;\n",
       "    }\n",
       "\n",
       "    .dataframe thead th {\n",
       "        text-align: right;\n",
       "    }\n",
       "</style>\n",
       "<table border=\"1\" class=\"dataframe\">\n",
       "  <thead>\n",
       "    <tr style=\"text-align: right;\">\n",
       "      <th></th>\n",
       "      <th>DSC_PRODUCT_WEIGHT</th>\n",
       "      <th>Android</th>\n",
       "      <th>Desktop</th>\n",
       "      <th>iOS</th>\n",
       "      <th>Mobile (Theme)</th>\n",
       "      <th>Amount</th>\n",
       "      <th>Valid Total</th>\n",
       "    </tr>\n",
       "  </thead>\n",
       "  <tbody>\n",
       "    <tr>\n",
       "      <th>count</th>\n",
       "      <td>1.420930e+06</td>\n",
       "      <td>1.421114e+06</td>\n",
       "      <td>1.421114e+06</td>\n",
       "      <td>1.421114e+06</td>\n",
       "      <td>1.421114e+06</td>\n",
       "      <td>1.421114e+06</td>\n",
       "      <td>1.421114e+06</td>\n",
       "    </tr>\n",
       "    <tr>\n",
       "      <th>mean</th>\n",
       "      <td>1.511359e+00</td>\n",
       "      <td>1.037528e+00</td>\n",
       "      <td>1.967263e+00</td>\n",
       "      <td>1.341194e-01</td>\n",
       "      <td>4.232299e-01</td>\n",
       "      <td>1.579521e+03</td>\n",
       "      <td>3.562140e+00</td>\n",
       "    </tr>\n",
       "    <tr>\n",
       "      <th>std</th>\n",
       "      <td>1.343679e+01</td>\n",
       "      <td>7.822131e+00</td>\n",
       "      <td>4.415733e+01</td>\n",
       "      <td>1.080168e+00</td>\n",
       "      <td>2.082007e+00</td>\n",
       "      <td>7.962584e+03</td>\n",
       "      <td>4.530361e+01</td>\n",
       "    </tr>\n",
       "    <tr>\n",
       "      <th>min</th>\n",
       "      <td>0.000000e+00</td>\n",
       "      <td>0.000000e+00</td>\n",
       "      <td>0.000000e+00</td>\n",
       "      <td>0.000000e+00</td>\n",
       "      <td>0.000000e+00</td>\n",
       "      <td>1.000000e-02</td>\n",
       "      <td>1.000000e+00</td>\n",
       "    </tr>\n",
       "    <tr>\n",
       "      <th>25%</th>\n",
       "      <td>2.000000e-01</td>\n",
       "      <td>0.000000e+00</td>\n",
       "      <td>0.000000e+00</td>\n",
       "      <td>0.000000e+00</td>\n",
       "      <td>0.000000e+00</td>\n",
       "      <td>2.900000e+02</td>\n",
       "      <td>1.000000e+00</td>\n",
       "    </tr>\n",
       "    <tr>\n",
       "      <th>50%</th>\n",
       "      <td>5.000000e-01</td>\n",
       "      <td>1.000000e+00</td>\n",
       "      <td>0.000000e+00</td>\n",
       "      <td>0.000000e+00</td>\n",
       "      <td>0.000000e+00</td>\n",
       "      <td>5.990000e+02</td>\n",
       "      <td>1.000000e+00</td>\n",
       "    </tr>\n",
       "    <tr>\n",
       "      <th>75%</th>\n",
       "      <td>5.000000e-01</td>\n",
       "      <td>1.000000e+00</td>\n",
       "      <td>1.000000e+00</td>\n",
       "      <td>0.000000e+00</td>\n",
       "      <td>1.000000e+00</td>\n",
       "      <td>1.090000e+03</td>\n",
       "      <td>1.000000e+00</td>\n",
       "    </tr>\n",
       "    <tr>\n",
       "      <th>max</th>\n",
       "      <td>5.000000e+03</td>\n",
       "      <td>1.429000e+03</td>\n",
       "      <td>1.120000e+04</td>\n",
       "      <td>4.560000e+02</td>\n",
       "      <td>8.810000e+02</td>\n",
       "      <td>3.498300e+06</td>\n",
       "      <td>1.120000e+04</td>\n",
       "    </tr>\n",
       "  </tbody>\n",
       "</table>\n",
       "</div>"
      ],
      "text/plain": [
       "       DSC_PRODUCT_WEIGHT       Android       Desktop           iOS  \\\n",
       "count        1.420930e+06  1.421114e+06  1.421114e+06  1.421114e+06   \n",
       "mean         1.511359e+00  1.037528e+00  1.967263e+00  1.341194e-01   \n",
       "std          1.343679e+01  7.822131e+00  4.415733e+01  1.080168e+00   \n",
       "min          0.000000e+00  0.000000e+00  0.000000e+00  0.000000e+00   \n",
       "25%          2.000000e-01  0.000000e+00  0.000000e+00  0.000000e+00   \n",
       "50%          5.000000e-01  1.000000e+00  0.000000e+00  0.000000e+00   \n",
       "75%          5.000000e-01  1.000000e+00  1.000000e+00  0.000000e+00   \n",
       "max          5.000000e+03  1.429000e+03  1.120000e+04  4.560000e+02   \n",
       "\n",
       "       Mobile (Theme)        Amount   Valid Total  \n",
       "count    1.421114e+06  1.421114e+06  1.421114e+06  \n",
       "mean     4.232299e-01  1.579521e+03  3.562140e+00  \n",
       "std      2.082007e+00  7.962584e+03  4.530361e+01  \n",
       "min      0.000000e+00  1.000000e-02  1.000000e+00  \n",
       "25%      0.000000e+00  2.900000e+02  1.000000e+00  \n",
       "50%      0.000000e+00  5.990000e+02  1.000000e+00  \n",
       "75%      1.000000e+00  1.090000e+03  1.000000e+00  \n",
       "max      8.810000e+02  3.498300e+06  1.120000e+04  "
      ]
     },
     "execution_count": 11,
     "metadata": {},
     "output_type": "execute_result"
    }
   ],
   "source": [
    "df_initial.describe()"
   ]
  },
  {
   "cell_type": "code",
   "execution_count": 12,
   "metadata": {},
   "outputs": [
    {
     "data": {
      "text/html": [
       "<div>\n",
       "<style scoped>\n",
       "    .dataframe tbody tr th:only-of-type {\n",
       "        vertical-align: middle;\n",
       "    }\n",
       "\n",
       "    .dataframe tbody tr th {\n",
       "        vertical-align: top;\n",
       "    }\n",
       "\n",
       "    .dataframe thead th {\n",
       "        text-align: right;\n",
       "    }\n",
       "</style>\n",
       "<table border=\"1\" class=\"dataframe\">\n",
       "  <thead>\n",
       "    <tr style=\"text-align: right;\">\n",
       "      <th></th>\n",
       "      <th>COD_SKU_CONFIG</th>\n",
       "      <th>date</th>\n",
       "      <th>DSC_CATEGORY_NAME_LEVEL_1</th>\n",
       "      <th>DSC_CATEGORY_NAME_LEVEL_2</th>\n",
       "      <th>DSC_CATEGORY_NAME_LEVEL_3</th>\n",
       "      <th>DSC_CATEGORY_NAME_LEVEL_4</th>\n",
       "      <th>DSC_PRODUCT_NAME</th>\n",
       "      <th>DSC_PRODUCT_BRAND_NAME_EN</th>\n",
       "      <th>DSC_PRODUCT_SIZE</th>\n",
       "      <th>DSC_PRODUCT_COLOR</th>\n",
       "      <th>DSC_PRODUCT_WEIGHT</th>\n",
       "      <th>DSC_SHIPPING_METHOD</th>\n",
       "      <th>Android</th>\n",
       "      <th>Desktop</th>\n",
       "      <th>iOS</th>\n",
       "      <th>Mobile (Theme)</th>\n",
       "      <th>Amount</th>\n",
       "      <th>Valid Total</th>\n",
       "    </tr>\n",
       "  </thead>\n",
       "  <tbody>\n",
       "    <tr>\n",
       "      <th>674458</th>\n",
       "      <td>KA934OT12OT9KNAFAMZ</td>\n",
       "      <td>2018-04-14</td>\n",
       "      <td>Grocer's Shop</td>\n",
       "      <td>Cooking Essentials</td>\n",
       "      <td>Rice, Flours, Pulses &amp; Grains</td>\n",
       "      <td>Rice</td>\n",
       "      <td>Extra-Long Grain 1121(pure Old Basmati) Rice 4...</td>\n",
       "      <td>Kainat</td>\n",
       "      <td></td>\n",
       "      <td>white</td>\n",
       "      <td>5000.0</td>\n",
       "      <td>UniversalShippingMatrix</td>\n",
       "      <td>2</td>\n",
       "      <td>0</td>\n",
       "      <td>0</td>\n",
       "      <td>0</td>\n",
       "      <td>775.0</td>\n",
       "      <td>2</td>\n",
       "    </tr>\n",
       "    <tr>\n",
       "      <th>674459</th>\n",
       "      <td>KA934OT12OT9KNAFAMZ</td>\n",
       "      <td>2018-04-16</td>\n",
       "      <td>Grocer's Shop</td>\n",
       "      <td>Cooking Essentials</td>\n",
       "      <td>Rice, Flours, Pulses &amp; Grains</td>\n",
       "      <td>Rice</td>\n",
       "      <td>Extra-Long Grain 1121(pure Old Basmati) Rice 4...</td>\n",
       "      <td>Kainat</td>\n",
       "      <td></td>\n",
       "      <td>white</td>\n",
       "      <td>5000.0</td>\n",
       "      <td>UniversalShippingMatrix</td>\n",
       "      <td>2</td>\n",
       "      <td>0</td>\n",
       "      <td>0</td>\n",
       "      <td>0</td>\n",
       "      <td>775.0</td>\n",
       "      <td>2</td>\n",
       "    </tr>\n",
       "  </tbody>\n",
       "</table>\n",
       "</div>"
      ],
      "text/plain": [
       "             COD_SKU_CONFIG       date DSC_CATEGORY_NAME_LEVEL_1  \\\n",
       "674458  KA934OT12OT9KNAFAMZ 2018-04-14             Grocer's Shop   \n",
       "674459  KA934OT12OT9KNAFAMZ 2018-04-16             Grocer's Shop   \n",
       "\n",
       "       DSC_CATEGORY_NAME_LEVEL_2      DSC_CATEGORY_NAME_LEVEL_3  \\\n",
       "674458        Cooking Essentials  Rice, Flours, Pulses & Grains   \n",
       "674459        Cooking Essentials  Rice, Flours, Pulses & Grains   \n",
       "\n",
       "       DSC_CATEGORY_NAME_LEVEL_4  \\\n",
       "674458                      Rice   \n",
       "674459                      Rice   \n",
       "\n",
       "                                         DSC_PRODUCT_NAME  \\\n",
       "674458  Extra-Long Grain 1121(pure Old Basmati) Rice 4...   \n",
       "674459  Extra-Long Grain 1121(pure Old Basmati) Rice 4...   \n",
       "\n",
       "       DSC_PRODUCT_BRAND_NAME_EN DSC_PRODUCT_SIZE DSC_PRODUCT_COLOR  \\\n",
       "674458                    Kainat                              white   \n",
       "674459                    Kainat                              white   \n",
       "\n",
       "        DSC_PRODUCT_WEIGHT      DSC_SHIPPING_METHOD  Android  Desktop  iOS  \\\n",
       "674458              5000.0  UniversalShippingMatrix        2        0    0   \n",
       "674459              5000.0  UniversalShippingMatrix        2        0    0   \n",
       "\n",
       "        Mobile (Theme)  Amount  Valid Total  \n",
       "674458               0   775.0            2  \n",
       "674459               0   775.0            2  "
      ]
     },
     "execution_count": 12,
     "metadata": {},
     "output_type": "execute_result"
    }
   ],
   "source": [
    "df_initial[df_initial.DSC_PRODUCT_WEIGHT == df_initial['DSC_PRODUCT_WEIGHT'].max()]"
   ]
  },
  {
   "cell_type": "code",
   "execution_count": 13,
   "metadata": {},
   "outputs": [],
   "source": [
    "df_initial['CatConcat'] = df_initial[['DSC_CATEGORY_NAME_LEVEL_1', 'DSC_CATEGORY_NAME_LEVEL_2','DSC_CATEGORY_NAME_LEVEL_3','DSC_CATEGORY_NAME_LEVEL_4']].apply(lambda x: ' '.join(x.str.strip()), axis=1)"
   ]
  },
  {
   "cell_type": "code",
   "execution_count": 14,
   "metadata": {},
   "outputs": [
    {
     "data": {
      "text/plain": [
       "Super Kernel Basmati Rice           137\n",
       "Economy Rice - 1 Kg                 106\n",
       "Basmati Rice - 1 Kg                 105\n",
       "Sella Gold Rice - 1 Kg              102\n",
       "Premium Basmati Rice - 1 Kg          95\n",
       "Super Kernal Basmati Rice - 1 KG     91\n",
       "Elite Steam Rice - 1Kg               90\n",
       "Super Kernal Basmati Rice - 5 KG     89\n",
       "Awami Rice - 1 KG                    86\n",
       "Basmati Rice - 5 Kg                  81\n",
       "Name: DSC_PRODUCT_NAME, dtype: int64"
      ]
     },
     "execution_count": 14,
     "metadata": {},
     "output_type": "execute_result"
    }
   ],
   "source": [
    "df_initial[df_initial.CatConcat == \"Grocer's Shop Cooking Essentials Rice, Flours, Pulses & Grains Rice\"]['DSC_PRODUCT_NAME'].value_counts()[:10]"
   ]
  },
  {
   "cell_type": "code",
   "execution_count": 15,
   "metadata": {},
   "outputs": [
    {
     "data": {
      "text/plain": [
       "RE775OT1GWF5GNAFAMZ    105\n",
       "BE493OT1AOE1ANAFAMZ     32\n",
       "Name: COD_SKU_CONFIG, dtype: int64"
      ]
     },
     "execution_count": 15,
     "metadata": {},
     "output_type": "execute_result"
    }
   ],
   "source": [
    "df_initial[df_initial.DSC_PRODUCT_NAME == 'Super Kernel Basmati Rice']['COD_SKU_CONFIG'].value_counts()"
   ]
  },
  {
   "cell_type": "code",
   "execution_count": 16,
   "metadata": {},
   "outputs": [
    {
     "data": {
      "text/plain": [
       "Timestamp('2018-04-05 00:00:00')"
      ]
     },
     "execution_count": 16,
     "metadata": {},
     "output_type": "execute_result"
    }
   ],
   "source": [
    "df_initial[(df_initial.DSC_PRODUCT_NAME == 'Super Kernel Basmati Rice') &\n",
    "           (df_initial.DSC_PRODUCT_BRAND_NAME_EN == 'Xidmat')]['date'].max()"
   ]
  },
  {
   "cell_type": "code",
   "execution_count": 17,
   "metadata": {},
   "outputs": [],
   "source": [
    "newDf = df_initial[(df_initial.COD_SKU_CONFIG == 'RE775OT1GWF5GNAFAMZ')]['date'].to_frame()\n",
    "\n",
    "newDf['CummulativeQuantity'] = df_initial[(df_initial.COD_SKU_CONFIG == 'RE775OT1GWF5GNAFAMZ')]['Valid Total'].cumsum()\n",
    "\n",
    "newDf['DemandPercent'] = (newDf['CummulativeQuantity']/newDf['CummulativeQuantity'].iloc[-1])*100"
   ]
  },
  {
   "cell_type": "code",
   "execution_count": 18,
   "metadata": {},
   "outputs": [],
   "source": [
    "#df_initial[(df_initial.COD_SKU_CONFIG == 'RE775OT1GWF5GNAFAMZ')].head()"
   ]
  },
  {
   "cell_type": "code",
   "execution_count": 19,
   "metadata": {},
   "outputs": [],
   "source": [
    "#newDf[40:105]"
   ]
  },
  {
   "cell_type": "code",
   "execution_count": 20,
   "metadata": {},
   "outputs": [
    {
     "data": {
      "text/plain": [
       "Text(0.5,0,'Date')"
      ]
     },
     "execution_count": 20,
     "metadata": {},
     "output_type": "execute_result"
    },
    {
     "data": {
      "image/png": "[encoded data removed]",
      "text/plain": [
       "<matplotlib.figure.Figure at 0x7fd1de38a080>"
      ]
     },
     "metadata": {},
     "output_type": "display_data"
    }
   ],
   "source": [
    "plt.figure(figsize=(10,7))\n",
    "plt.plot(newDf.date, newDf.DemandPercent)\n",
    "plt.ylabel('Percentage Demand', fontsize=12)\n",
    "plt.xlabel('Date', fontsize=12)"
   ]
  },
  {
   "cell_type": "code",
   "execution_count": 21,
   "metadata": {},
   "outputs": [],
   "source": [
    "df_prodVisible = df_prodVisible.fillna(0)\n",
    "\n",
    "df_prodVisible = df_prodVisible.T"
   ]
  },
  {
   "cell_type": "code",
   "execution_count": 22,
   "metadata": {},
   "outputs": [],
   "source": [
    "df_prodVisible.columns = df_prodVisible.iloc[0]\n",
    "\n",
    "df_prodVisible = df_prodVisible.reindex(df_prodVisible.index.drop('DD_COD_SKU_CONFIG'))"
   ]
  },
  {
   "cell_type": "code",
   "execution_count": 23,
   "metadata": {},
   "outputs": [],
   "source": [
    "# import numpy as np\n",
    "# def min_run_length(series):\n",
    "#     terminal = pd.Series([0])\n",
    "#     diffs = pd.concat([terminal, series, terminal]).diff()\n",
    "#     starts = np.where(diffs == 1)\n",
    "#     ends = np.where(diffs == 0)\n",
    "#     return [(e-s, (s, e-1)) for s, e in zip(starts[0], ends[0])\n",
    "#             if e - s >= 2]\n",
    "\n",
    "# cols = df_prodVisible.columns[df_prodVisible.dtypes.eq('object')]\n",
    "# df_prodVisible[cols] = df_prodVisible[cols].apply(pd.to_numeric, errors='coerce')\n",
    "\n",
    "# #indices = {cname: min_run_length(df[cname]) for cname in df.columns}\n",
    "# #print(indices)\n",
    "# tt = min_run_length(df_prodVisible.iloc[:,0])\n",
    "# print(indices)\n",
    "\n"
   ]
  },
  {
   "cell_type": "code",
   "execution_count": 24,
   "metadata": {},
   "outputs": [],
   "source": [
    "def zero_runs(a):\n",
    "    # Create an array that is 1 where a is 0, and pad each end with an extra 0.\n",
    "    iszero = np.concatenate(([0], np.equal(a, 0).view(np.int8), [0]))\n",
    "    absdiff = np.abs(np.diff(iszero))\n",
    "    # Runs start and end where absdiff is 1.\n",
    "    ranges = np.where(absdiff == 1)[0].reshape(-1, 2)\n",
    "    return ranges"
   ]
  },
  {
   "cell_type": "code",
   "execution_count": 25,
   "metadata": {},
   "outputs": [],
   "source": [
    "def getOfflineData(offlineRaw,SKU_name):\n",
    "    dataFrame = pd.DataFrame()\n",
    "    for ind, column in enumerate(offlineRaw.columns):\n",
    "        runs = zero_runs(offlineRaw.iloc[:,ind])\n",
    "        tuples = zip(offlineRaw.iloc[runs[:,0],0].index, runs[:,1] - runs[:,0])\n",
    "        tempDf = {}\n",
    "        cols = ['OfflineDate','OfflineDays']\n",
    "        tuples = list(tuples)\n",
    "        tempDf = pd.DataFrame.from_records(tuples,columns = cols)\n",
    "        tempDf['SKU'] = column\n",
    "        dataFrame = dataFrame.append(tempDf)\n",
    "    return dataFrame\n",
    "        "
   ]
  },
  {
   "cell_type": "code",
   "execution_count": 26,
   "metadata": {},
   "outputs": [],
   "source": [
    "#formattedDf = getOfflineData(df_prodVisible,df_prodVisible.columns.values[0])\n",
    "#formattedDf.to_pickle('./OfflineFormattedData',compression='infer', protocol=4)\n",
    "formattedDf = pd.read_pickle('./OfflineFormattedData', compression='infer')\n",
    "#formattedDf.head()"
   ]
  },
  {
   "cell_type": "code",
   "execution_count": 27,
   "metadata": {},
   "outputs": [
    {
     "data": {
      "text/plain": [
       "COD_SKU_CONFIG                       object\n",
       "date                         datetime64[ns]\n",
       "DSC_CATEGORY_NAME_LEVEL_1            object\n",
       "DSC_CATEGORY_NAME_LEVEL_2            object\n",
       "DSC_CATEGORY_NAME_LEVEL_3            object\n",
       "DSC_CATEGORY_NAME_LEVEL_4            object\n",
       "DSC_PRODUCT_NAME                     object\n",
       "DSC_PRODUCT_BRAND_NAME_EN            object\n",
       "DSC_PRODUCT_SIZE                     object\n",
       "DSC_PRODUCT_COLOR                    object\n",
       "DSC_PRODUCT_WEIGHT                  float64\n",
       "DSC_SHIPPING_METHOD                  object\n",
       "Android                               int64\n",
       "Desktop                               int64\n",
       "iOS                                   int64\n",
       "Mobile (Theme)                        int64\n",
       "Amount                              float64\n",
       "Valid Total                           int64\n",
       "CatConcat                            object\n",
       "dtype: object"
      ]
     },
     "execution_count": 27,
     "metadata": {},
     "output_type": "execute_result"
    }
   ],
   "source": [
    "#Sample SKUs 00301FA0IW7BMNAFAMZ, 00301FA1IM7MANAFAMZ, 10259FA0074AYNAFAMZ\n",
    "#formattedDf['OfflineDate'] = pd.to_datetime(formattedDf['OfflineDate'])\n",
    "df_initial.dtypes"
   ]
  },
  {
   "cell_type": "markdown",
   "metadata": {},
   "source": [
    "### Offline Product Similarity Match "
   ]
  },
  {
   "cell_type": "code",
   "execution_count": 82,
   "metadata": {},
   "outputs": [
    {
     "name": "stdout",
     "output_type": "stream",
     "text": [
      "[\"Women's Fashion Women's Clothing Pakistani & Traditional Clothing Unstitched Fabric\"]\n",
      "['Cream Top And Bottom With Red Dupatta Georgette Dress']\n",
      "['0092 store']\n",
      "2018-03-06\n",
      "1\n",
      "SKUs which have been sold during this period from this relevent category cluster  7147\n"
     ]
    }
   ],
   "source": [
    "SKUid = '00301FA0IW7BMNAFAMZ'\n",
    "PeriodStartDate = '2018-03-04'\n",
    "categoryName = df_initial[df_initial.COD_SKU_CONFIG == SKUid]['CatConcat'].unique()\n",
    "print(categoryName)\n",
    "productame = df_initial[df_initial.COD_SKU_CONFIG == SKUid]['DSC_PRODUCT_NAME'].unique()\n",
    "print(productame)\n",
    "brandName = df_initial[df_initial.COD_SKU_CONFIG == SKUid]['DSC_PRODUCT_BRAND_NAME_EN'].unique()\n",
    "print(brandName)\n",
    "offlineStartDate = formattedDf[formattedDf.SKU == SKUid].iloc[3:4,0].values[0]\n",
    "print(offlineStartDate)\n",
    "\n",
    "offlineDays = formattedDf[formattedDf.SKU == SKUid].iloc[3:4,1].values[0]\n",
    "print(offlineDays)\n",
    "\n",
    "relevantSkuList = df_initial[(df_initial.CatConcat == categoryName[0]) & (df_initial.COD_SKU_CONFIG != SKUid)]['COD_SKU_CONFIG'].unique()\n",
    "print('SKUs which have been sold during this period from this relevent category cluster ',len(relevantSkuList))\n",
    "\n",
    "#print('No of records in this Category, whose demand data we have in our date range of 5 months:',len(df_initial[(df_initial.CatConcat == categoryName[0]) & (df_initial.COD_SKU_CONFIG != '00301FA0IW7BMNAFAMZ')].index))\n"
   ]
  },
  {
   "cell_type": "code",
   "execution_count": 70,
   "metadata": {},
   "outputs": [],
   "source": [
    "#df_initial[df_initial.COD_SKU_CONFIG == '36251FA01OSV6NAFAMZ']"
   ]
  },
  {
   "cell_type": "code",
   "execution_count": 71,
   "metadata": {},
   "outputs": [],
   "source": [
    "#df_prodVisible[np.intersect1d(df_prodVisible.columns, list(relevantSkuList))].head()\n",
    "#df_prodVisible[df_prodVisible.columns.intersection(list(relevantSkuList))].head()"
   ]
  },
  {
   "cell_type": "code",
   "execution_count": 101,
   "metadata": {},
   "outputs": [],
   "source": [
    "releventSKUdataFrame = df_prodVisible[(datetime.strptime(PeriodStartDate, \"%Y-%m-%d\").strftime(\"%Y-%m-%d\")) : (datetime.strptime(offlineStartDate, \"%Y-%m-%d\") + timedelta(days=int(offlineDays)-1)).strftime(\"%Y-%m-%d\")]"
   ]
  },
  {
   "cell_type": "code",
   "execution_count": 106,
   "metadata": {},
   "outputs": [],
   "source": [
    "releventSKUdataFrame = releventSKUdataFrame[releventSKUdataFrame.columns.intersection(list(relevantSkuList))].apply(pd.Series.value_counts)"
   ]
  },
  {
   "cell_type": "code",
   "execution_count": 107,
   "metadata": {},
   "outputs": [
    {
     "data": {
      "text/html": [
       "<div>\n",
       "<style scoped>\n",
       "    .dataframe tbody tr th:only-of-type {\n",
       "        vertical-align: middle;\n",
       "    }\n",
       "\n",
       "    .dataframe tbody tr th {\n",
       "        vertical-align: top;\n",
       "    }\n",
       "\n",
       "    .dataframe thead th {\n",
       "        text-align: right;\n",
       "    }\n",
       "</style>\n",
       "<table border=\"1\" class=\"dataframe\">\n",
       "  <thead>\n",
       "    <tr style=\"text-align: right;\">\n",
       "      <th>DD_COD_SKU_CONFIG</th>\n",
       "      <th>00301FA1IM7MANAFAMZ</th>\n",
       "      <th>24363FA0IOZ26NAFAMZ</th>\n",
       "      <th>36251FA006SNSNAFAMZ</th>\n",
       "      <th>36251FA01183MNAFAMZ</th>\n",
       "      <th>36251FA01OSV6NAFAMZ</th>\n",
       "      <th>36251FA01TNV6NAFAMZ</th>\n",
       "      <th>36251FA02LD36NAFAMZ</th>\n",
       "      <th>36251FA02VO2QNAFAMZ</th>\n",
       "      <th>36251FA03EYIQNAFAMZ</th>\n",
       "      <th>36251FA03H3OINAFAMZ</th>\n",
       "      <th>...</th>\n",
       "      <th>ZU139FA0O0TZWNAFAMZ</th>\n",
       "      <th>ZU666FA05JR6INAFAMZ</th>\n",
       "      <th>ZU666FA07U2J2NAFAMZ</th>\n",
       "      <th>ZU666FA0BI38ANAFAMZ</th>\n",
       "      <th>ZU666FA0V1Z4ENAFAMZ</th>\n",
       "      <th>ZU666FA0YTOB2NAFAMZ</th>\n",
       "      <th>ZU666FA14S0CUNAFAMZ</th>\n",
       "      <th>ZU666FA1AQCEMNAFAMZ</th>\n",
       "      <th>ZU666FA1CDOTQNAFAMZ</th>\n",
       "      <th>ZU666FA1IVBBINAFAMZ</th>\n",
       "    </tr>\n",
       "  </thead>\n",
       "  <tbody>\n",
       "    <tr>\n",
       "      <th>0.0</th>\n",
       "      <td>1</td>\n",
       "      <td>3.0</td>\n",
       "      <td>3.0</td>\n",
       "      <td>3.0</td>\n",
       "      <td>3.0</td>\n",
       "      <td>3.0</td>\n",
       "      <td>3.0</td>\n",
       "      <td>3.0</td>\n",
       "      <td>3.0</td>\n",
       "      <td>3.0</td>\n",
       "      <td>...</td>\n",
       "      <td>3.0</td>\n",
       "      <td>3.0</td>\n",
       "      <td>1</td>\n",
       "      <td>3.0</td>\n",
       "      <td>1</td>\n",
       "      <td>1</td>\n",
       "      <td>1</td>\n",
       "      <td>1</td>\n",
       "      <td>1</td>\n",
       "      <td>3.0</td>\n",
       "    </tr>\n",
       "    <tr>\n",
       "      <th>1.0</th>\n",
       "      <td>2</td>\n",
       "      <td>NaN</td>\n",
       "      <td>NaN</td>\n",
       "      <td>NaN</td>\n",
       "      <td>NaN</td>\n",
       "      <td>NaN</td>\n",
       "      <td>NaN</td>\n",
       "      <td>NaN</td>\n",
       "      <td>NaN</td>\n",
       "      <td>NaN</td>\n",
       "      <td>...</td>\n",
       "      <td>NaN</td>\n",
       "      <td>NaN</td>\n",
       "      <td>2</td>\n",
       "      <td>NaN</td>\n",
       "      <td>2</td>\n",
       "      <td>2</td>\n",
       "      <td>2</td>\n",
       "      <td>2</td>\n",
       "      <td>2</td>\n",
       "      <td>NaN</td>\n",
       "    </tr>\n",
       "  </tbody>\n",
       "</table>\n",
       "<p>2 rows × 7073 columns</p>\n",
       "</div>"
      ],
      "text/plain": [
       "DD_COD_SKU_CONFIG  00301FA1IM7MANAFAMZ  24363FA0IOZ26NAFAMZ  \\\n",
       "0.0                                  1                  3.0   \n",
       "1.0                                  2                  NaN   \n",
       "\n",
       "DD_COD_SKU_CONFIG  36251FA006SNSNAFAMZ  36251FA01183MNAFAMZ  \\\n",
       "0.0                                3.0                  3.0   \n",
       "1.0                                NaN                  NaN   \n",
       "\n",
       "DD_COD_SKU_CONFIG  36251FA01OSV6NAFAMZ  36251FA01TNV6NAFAMZ  \\\n",
       "0.0                                3.0                  3.0   \n",
       "1.0                                NaN                  NaN   \n",
       "\n",
       "DD_COD_SKU_CONFIG  36251FA02LD36NAFAMZ  36251FA02VO2QNAFAMZ  \\\n",
       "0.0                                3.0                  3.0   \n",
       "1.0                                NaN                  NaN   \n",
       "\n",
       "DD_COD_SKU_CONFIG  36251FA03EYIQNAFAMZ  36251FA03H3OINAFAMZ  \\\n",
       "0.0                                3.0                  3.0   \n",
       "1.0                                NaN                  NaN   \n",
       "\n",
       "DD_COD_SKU_CONFIG         ...           ZU139FA0O0TZWNAFAMZ  \\\n",
       "0.0                       ...                           3.0   \n",
       "1.0                       ...                           NaN   \n",
       "\n",
       "DD_COD_SKU_CONFIG  ZU666FA05JR6INAFAMZ  ZU666FA07U2J2NAFAMZ  \\\n",
       "0.0                                3.0                    1   \n",
       "1.0                                NaN                    2   \n",
       "\n",
       "DD_COD_SKU_CONFIG  ZU666FA0BI38ANAFAMZ  ZU666FA0V1Z4ENAFAMZ  \\\n",
       "0.0                                3.0                    1   \n",
       "1.0                                NaN                    2   \n",
       "\n",
       "DD_COD_SKU_CONFIG  ZU666FA0YTOB2NAFAMZ  ZU666FA14S0CUNAFAMZ  \\\n",
       "0.0                                  1                    1   \n",
       "1.0                                  2                    2   \n",
       "\n",
       "DD_COD_SKU_CONFIG  ZU666FA1AQCEMNAFAMZ  ZU666FA1CDOTQNAFAMZ  \\\n",
       "0.0                                  1                    1   \n",
       "1.0                                  2                    2   \n",
       "\n",
       "DD_COD_SKU_CONFIG  ZU666FA1IVBBINAFAMZ  \n",
       "0.0                                3.0  \n",
       "1.0                                NaN  \n",
       "\n",
       "[2 rows x 7073 columns]"
      ]
     },
     "execution_count": 107,
     "metadata": {},
     "output_type": "execute_result"
    }
   ],
   "source": [
    "releventSKUdataFrame"
   ]
  },
  {
   "cell_type": "code",
   "execution_count": 108,
   "metadata": {},
   "outputs": [],
   "source": [
    "findOnlineRelatedSKUs = releventSKUdataFrame"
   ]
  },
  {
   "cell_type": "code",
   "execution_count": 109,
   "metadata": {},
   "outputs": [],
   "source": [
    "findOnlineRelatedSKUs = findOnlineRelatedSKUs.T"
   ]
  },
  {
   "cell_type": "code",
   "execution_count": 110,
   "metadata": {},
   "outputs": [],
   "source": [
    "if findOnlineRelatedSKUs.shape[1] == 2:\n",
    "     findOnlineRelatedSKUs.columns = ['Off', 'On']\n",
    "else:\n",
    "     findOnlineRelatedSKUs.columns = ['On']"
   ]
  },
  {
   "cell_type": "code",
   "execution_count": 99,
   "metadata": {},
   "outputs": [
    {
     "data": {
      "text/plain": [
       "(7073, 2)"
      ]
     },
     "execution_count": 99,
     "metadata": {},
     "output_type": "execute_result"
    }
   ],
   "source": [
    "findOnlineRelatedSKUs.shape"
   ]
  },
  {
   "cell_type": "code",
   "execution_count": 112,
   "metadata": {},
   "outputs": [
    {
     "data": {
      "text/plain": [
       "2755"
      ]
     },
     "execution_count": 112,
     "metadata": {},
     "output_type": "execute_result"
    }
   ],
   "source": [
    "#Get SKUs from the smilar valid SKU list which were OnLine atleast\n",
    "similarSKU4DC = findOnlineRelatedSKUs[findOnlineRelatedSKUs[\"On\"] > 0].index\n",
    "len(similarSKU4DC)"
   ]
  },
  {
   "cell_type": "code",
   "execution_count": 134,
   "metadata": {},
   "outputs": [],
   "source": [
    "#formattedDf[formattedDf.SKU == SKUid]"
   ]
  },
  {
   "cell_type": "code",
   "execution_count": 113,
   "metadata": {},
   "outputs": [
    {
     "data": {
      "text/plain": [
       "(690, 19)"
      ]
     },
     "execution_count": 113,
     "metadata": {},
     "output_type": "execute_result"
    }
   ],
   "source": [
    "demandCurveDf = df_initial[df_initial.COD_SKU_CONFIG.isin(similarSKU4DC)]\n",
    "demandCurveDf = demandCurveDf[(demandCurveDf.date >= datetime.strptime(PeriodStartDate, \"%Y-%m-%d\")) \n",
    "             & (demandCurveDf.date <= datetime.strptime(offlineStartDate, \"%Y-%m-%d\") + timedelta(days=int(offlineDays)-1))]\n",
    "#demandCurveDf = demandCurveDf['date'].to_frame()\n",
    "demandCurveDf.shape"
   ]
  },
  {
   "cell_type": "code",
   "execution_count": 114,
   "metadata": {},
   "outputs": [
    {
     "data": {
      "text/html": [
       "<div>\n",
       "<style scoped>\n",
       "    .dataframe tbody tr th:only-of-type {\n",
       "        vertical-align: middle;\n",
       "    }\n",
       "\n",
       "    .dataframe tbody tr th {\n",
       "        vertical-align: top;\n",
       "    }\n",
       "\n",
       "    .dataframe thead th {\n",
       "        text-align: right;\n",
       "    }\n",
       "</style>\n",
       "<table border=\"1\" class=\"dataframe\">\n",
       "  <thead>\n",
       "    <tr style=\"text-align: right;\">\n",
       "      <th></th>\n",
       "      <th>date</th>\n",
       "      <th>CummulativeQuantity</th>\n",
       "      <th>DemandPercent</th>\n",
       "    </tr>\n",
       "  </thead>\n",
       "  <tbody>\n",
       "    <tr>\n",
       "      <th>0</th>\n",
       "      <td>2018-03-04</td>\n",
       "      <td>1.9</td>\n",
       "      <td>36.538462</td>\n",
       "    </tr>\n",
       "    <tr>\n",
       "      <th>1</th>\n",
       "      <td>2018-03-05</td>\n",
       "      <td>3.7</td>\n",
       "      <td>71.153846</td>\n",
       "    </tr>\n",
       "    <tr>\n",
       "      <th>2</th>\n",
       "      <td>2018-03-06</td>\n",
       "      <td>5.2</td>\n",
       "      <td>100.000000</td>\n",
       "    </tr>\n",
       "  </tbody>\n",
       "</table>\n",
       "</div>"
      ],
      "text/plain": [
       "        date  CummulativeQuantity  DemandPercent\n",
       "0 2018-03-04                  1.9      36.538462\n",
       "1 2018-03-05                  3.7      71.153846\n",
       "2 2018-03-06                  5.2     100.000000"
      ]
     },
     "execution_count": 114,
     "metadata": {},
     "output_type": "execute_result"
    }
   ],
   "source": [
    "temp = pd.DataFrame(demandCurveDf.groupby(['date'])['Valid Total'].mean()).reset_index()\n",
    "demandCurveDf = temp['date'].to_frame()\n",
    "demandCurveDf['CummulativeQuantity'] = temp['Valid Total'].cumsum().round(1)\n",
    "demandCurveDf['DemandPercent'] = (demandCurveDf['CummulativeQuantity']/demandCurveDf['CummulativeQuantity'].iloc[-1])*100\n",
    "demandCurveDf"
   ]
  },
  {
   "cell_type": "code",
   "execution_count": 115,
   "metadata": {},
   "outputs": [],
   "source": [
    "temp = df_initial[df_initial.COD_SKU_CONFIG == SKUid]\n",
    "\n",
    "temp = temp[(temp.date >= datetime.strptime(PeriodStartDate, \"%Y-%m-%d\")) \n",
    "                     & (temp.date <= datetime.strptime(offlineStartDate, \"%Y-%m-%d\") + timedelta(days=int(offlineDays)-1))]\n",
    "\n",
    "if temp['COD_SKU_CONFIG'].count() > 0:\n",
    "    onlineDemand = 1\n",
    "    demandCurveDf4Offline = temp['date'].to_frame()\n",
    "    demandCurveDf4Offline['CummulativeQuantity'] = temp[(temp.COD_SKU_CONFIG == SKUid)]['Valid Total'].cumsum()\n",
    "    demandCurveDf4Offline['DemandPercent'] = (demandCurveDf4Offline['CummulativeQuantity']/demandCurveDf4Offline['CummulativeQuantity'].iloc[-1])*100\n",
    "    demandCurveDf4Offline\n",
    "    print(\"Recorded demand during Online period : \",temp['COD_SKU_CONFIG'].count())\n",
    "else:\n",
    "    onlineDemand = 0\n",
    "    print(\"No Demand Recorded during Online period\")"
   ]
  },
  {
   "cell_type": "code",
   "execution_count": 133,
   "metadata": {},
   "outputs": [
    {
     "name": "stdout",
     "output_type": "stream",
     "text": [
      "Cummulative Quantity When Sold Out: 1\n",
      "Demand Percent of Category when the product soldout  0.3653846153846153\n",
      "Estiamted Lost Sales : 2.7368421052631584\n"
     ]
    }
   ],
   "source": [
    "if onlineDemand > 0:\n",
    "    dateOfSoldOut = demandCurveDf4Offline[demandCurveDf4Offline.DemandPercent == 100]['date'].values[0]\n",
    "    DemandPercentWhenSoldOut = demandCurveDf[demandCurveDf.date == dateOfSoldOut]['DemandPercent']/100\n",
    "    CummulativeQuantityWhenSoldOut = demandCurveDf4Offline[demandCurveDf4Offline.DemandPercent == 100]['CummulativeQuantity']\n",
    "    print(\"Cummulative Quantity When Sold Out:\",CummulativeQuantityWhenSoldOut.values[0])\n",
    "    print(\"Demand Percent of Category when the product soldout \",DemandPercentWhenSoldOut.values[0])\n",
    "    EstiamtedLostSales = CummulativeQuantityWhenSoldOut/DemandPercentWhenSoldOut\n",
    "    print(\"Estiamted Lost Sales :\",EstiamtedLostSales.values[0])"
   ]
  },
  {
   "cell_type": "code",
   "execution_count": null,
   "metadata": {},
   "outputs": [],
   "source": [
    "def getEstimatedLostSale(SKUname,StartDate,offlineDate,offlineDays):\n",
    "    return 0\n",
    "    "
   ]
  },
  {
   "cell_type": "code",
   "execution_count": null,
   "metadata": {},
   "outputs": [],
   "source": [
    "datetime.strptime(\"2018-12-01\", \"%Y-%m-%d\") + timedelta(days=int(75))"
   ]
  },
  {
   "cell_type": "code",
   "execution_count": 140,
   "metadata": {},
   "outputs": [
    {
     "name": "stdout",
     "output_type": "stream",
     "text": [
      "<class 'int'>\n",
      "<class 'int'>\n",
      "<class 'int'>\n",
      "<class 'int'>\n",
      "<class 'int'>\n",
      "<class 'int'>\n",
      "<class 'int'>\n",
      "<class 'int'>\n",
      "<class 'int'>\n"
     ]
    }
   ],
   "source": [
    "for i, row in formattedDf[:9].iterrows():\n",
    "    print(type(row['OfflineDays']))"
   ]
  },
  {
   "cell_type": "code",
   "execution_count": null,
   "metadata": {},
   "outputs": [],
   "source": []
  }
 ],
 "metadata": {
  "kernelspec": {
   "display_name": "Python 3",
   "language": "python",
   "name": "python3"
  },
  "language_info": {
   "codemirror_mode": {
    "name": "ipython",
    "version": 3
   },
   "file_extension": ".py",
   "mimetype": "text/x-python",
   "name": "python",
   "nbconvert_exporter": "python",
   "pygments_lexer": "ipython3",
   "version": "3.6.4"
  }
 },
 "nbformat": 4,
 "nbformat_minor": 2
}
